{
 "cells": [
  {
   "cell_type": "markdown",
   "metadata": {},
   "source": [
    "# Repetition"
   ]
  },
  {
   "cell_type": "markdown",
   "metadata": {},
   "source": [
    "## Names and Objects"
   ]
  },
  {
   "cell_type": "markdown",
   "metadata": {},
   "source": [
    "A tool to interactively explore memory layout in Python programs http://pythontutor.com/live.html#mode=edit.   \n",
    "\n",
    "![tutorscreenshot](./tool.png)"
   ]
  },
  {
   "cell_type": "markdown",
   "metadata": {},
   "source": [
    "## *args and **kwargs"
   ]
  },
  {
   "cell_type": "code",
   "execution_count": 342,
   "metadata": {},
   "outputs": [],
   "source": [
    "def scream(*strings, **kwargs):\n",
    "    to_scream = []\n",
    "    for i in strings:\n",
    "        to_scream.append(i.upper())\n",
    "    __builtins__.print(*to_scream, **kwargs)\n",
    "     \n",
    "        \n",
    "def my_print(*strings, do_scream=False, **kwargs):\n",
    "    if do_scream:\n",
    "        scream(*strings, **kwargs)\n",
    "    else:\n",
    "        __builtins__.print(*strings, **kwargs)\n",
    "        \n",
    "        \n",
    "print = my_print"
   ]
  },
  {
   "cell_type": "code",
   "execution_count": 345,
   "metadata": {},
   "outputs": [
    {
     "name": "stdout",
     "output_type": "stream",
     "text": [
      "HELLO WORLD!\n"
     ]
    }
   ],
   "source": [
    "print(\"Hello World!\", do_scream=True)"
   ]
  },
  {
   "cell_type": "markdown",
   "metadata": {},
   "source": [
    "## Classes\n",
    "\n",
    "As one of Pythons many Paradigms is that of **object-orientation**, it is of course possible to implement classes. In fact, every single inbuilt-class works the same way, and they all work the same under the hood - which also means, one can get any builtin methods to work on custom classes, just as much as on builtin classes."
   ]
  },
  {
   "cell_type": "code",
   "execution_count": 346,
   "metadata": {},
   "outputs": [],
   "source": [
    "class MyClass(object):\n",
    "    \"\"\"This class doesn't have much purpose and serves demonstration\"\"\"\n",
    "    pass #pass is used if Python wants there to be another line (because of indents), but you don't have any more content!"
   ]
  },
  {
   "cell_type": "code",
   "execution_count": 347,
   "metadata": {},
   "outputs": [
    {
     "name": "stdout",
     "output_type": "stream",
     "text": [
      "<class '__main__.MyClass'>\n"
     ]
    }
   ],
   "source": [
    "a = MyClass()\n",
    "print(type(a))"
   ]
  },
  {
   "cell_type": "code",
   "execution_count": 349,
   "metadata": {},
   "outputs": [
    {
     "name": "stdout",
     "output_type": "stream",
     "text": [
      "True\n",
      "True\n"
     ]
    }
   ],
   "source": [
    "# To check if something is an instance of a class (or the ones that inherit from it), use isinstance!\n",
    "print(isinstance(a, MyClass))\n",
    "print(isinstance(a, object))"
   ]
  },
  {
   "cell_type": "code",
   "execution_count": 350,
   "metadata": {},
   "outputs": [
    {
     "data": {
      "text/plain": [
       "\u001b[0;31mType:\u001b[0m        MyClass\n",
       "\u001b[0;31mString form:\u001b[0m <__main__.MyClass object at 0x7ff234807e80>\n",
       "\u001b[0;31mDocstring:\u001b[0m   This class doesn't have much purpose and serves demonstration\n"
      ]
     },
     "metadata": {},
     "output_type": "display_data"
    }
   ],
   "source": [
    "a?"
   ]
  },
  {
   "cell_type": "markdown",
   "metadata": {},
   "source": [
    "### Methods and Attributes\n",
    "Custom classes can have custom methods and attributes. If no constructor is explicitly specified, the one of its mother-class will be used instead. Otherwise, a constructor must be defined with the method \\__init\\__. The destructor is called \\__del\\__. All methods that don't have a first parameter called \"*self*\" are class-methods (*static* in Java), all others are instance-methods. \n",
    "\n",
    "All instance-variables must be defined in instance-methods and must be dereferenced from *self*. All variables that are not defined in instance-methods are class-variables!\n",
    "\n",
    "*self* is a reference to the object it*self*!"
   ]
  },
  {
   "cell_type": "code",
   "execution_count": 354,
   "metadata": {},
   "outputs": [
    {
     "name": "stdout",
     "output_type": "stream",
     "text": [
      "<__main__.MyClass2 object at 0x7ff2348123c8>\n",
      "<class '__main__.MyClass2'>\n",
      "This class also doesn't have much purpose and serves demonstration\n"
     ]
    }
   ],
   "source": [
    "class MyClass2(object):\n",
    "    \"\"\"This class also doesn't have much purpose and serves demonstration\"\"\"\n",
    "    def __init__(self):\n",
    "        print(self)               # the instance, including its class and concrete memory adress\n",
    "        print(type(self))         # the type of this instance, which is the class we defined\n",
    "        print(type(self).__doc__) # the docstring of that instance\n",
    "        \n",
    "b = MyClass2()"
   ]
  },
  {
   "cell_type": "code",
   "execution_count": 360,
   "metadata": {},
   "outputs": [
    {
     "data": {
      "text/plain": [
       "(2, 3)"
      ]
     },
     "execution_count": 360,
     "metadata": {},
     "output_type": "execute_result"
    }
   ],
   "source": [
    "class MyClass3(object):\n",
    "    \"\"\"This class also doesn't have much purpose and serves demonstration\"\"\"\n",
    "    variable1 = \"value\" #variable1 is a class-variable\n",
    "    \n",
    "    def __init__(self, number):\n",
    "        self.number = number #number is an instance-variable\n",
    "        \n",
    "    def change_variable1(self, newval):\n",
    "        variable1 = newval\n",
    "        \n",
    "        \n",
    "b = MyClass3(2)\n",
    "c = MyClass3(3)\n",
    "\n",
    "b.number, c.number"
   ]
  },
  {
   "cell_type": "code",
   "execution_count": 363,
   "metadata": {},
   "outputs": [
    {
     "data": {
      "text/plain": [
       "'value'"
      ]
     },
     "execution_count": 363,
     "metadata": {},
     "output_type": "execute_result"
    }
   ],
   "source": [
    "#calling it from an instance\n",
    "b.variable1 "
   ]
  },
  {
   "cell_type": "code",
   "execution_count": 364,
   "metadata": {},
   "outputs": [
    {
     "data": {
      "text/plain": [
       "'value'"
      ]
     },
     "execution_count": 364,
     "metadata": {},
     "output_type": "execute_result"
    }
   ],
   "source": [
    "#calling it from the class\n",
    "MyClass3.variable1"
   ]
  },
  {
   "cell_type": "code",
   "execution_count": 366,
   "metadata": {},
   "outputs": [
    {
     "ename": "AttributeError",
     "evalue": "type object 'MyClass3' has no attribute 'number'",
     "output_type": "error",
     "traceback": [
      "\u001b[0;31m---------------------------------------------------------------------------\u001b[0m",
      "\u001b[0;31mAttributeError\u001b[0m                            Traceback (most recent call last)",
      "\u001b[0;32m<ipython-input-366-27599480e088>\u001b[0m in \u001b[0;36m<module>\u001b[0;34m()\u001b[0m\n\u001b[0;32m----> 1\u001b[0;31m \u001b[0mMyClass3\u001b[0m\u001b[0;34m.\u001b[0m\u001b[0mnumber\u001b[0m\u001b[0;34m\u001b[0m\u001b[0m\n\u001b[0m",
      "\u001b[0;31mAttributeError\u001b[0m: type object 'MyClass3' has no attribute 'number'"
     ]
    }
   ],
   "source": [
    "MyClass3.number"
   ]
  },
  {
   "cell_type": "markdown",
   "metadata": {},
   "source": [
    "### Inheritance\n",
    "Being Object-Oriented, Python of course understands inheritance"
   ]
  },
  {
   "cell_type": "code",
   "execution_count": 367,
   "metadata": {},
   "outputs": [
    {
     "name": "stdout",
     "output_type": "stream",
     "text": [
      "<class '__main__.LandAnimal'>\n"
     ]
    },
    {
     "data": {
      "text/plain": [
       "True"
      ]
     },
     "execution_count": 367,
     "metadata": {},
     "output_type": "execute_result"
    }
   ],
   "source": [
    "class Animal:\n",
    "    pass\n",
    "\n",
    "class LandAnimal(Animal):\n",
    "    canwalk = True\n",
    "    \n",
    "    def __init__(self):\n",
    "        self.haslegs = True\n",
    "    \n",
    "a = LandAnimal()\n",
    "print(type(a))\n",
    "isinstance(a, Animal)"
   ]
  },
  {
   "cell_type": "markdown",
   "metadata": {},
   "source": [
    "In fact, Python even supports **multiple inheritance** -- methods and attributes that are defined in both parent classes will be taken in order"
   ]
  },
  {
   "cell_type": "code",
   "execution_count": 374,
   "metadata": {},
   "outputs": [
    {
     "data": {
      "text/plain": [
       "(True, True)"
      ]
     },
     "execution_count": 374,
     "metadata": {},
     "output_type": "execute_result"
    }
   ],
   "source": [
    "class WaterAnimal(Animal):\n",
    "    canswim = True\n",
    "    \n",
    "    def __init__(self):\n",
    "        self.haslegs = False\n",
    "\n",
    "class Amphibian(LandAnimal, WaterAnimal):\n",
    "    pass\n",
    "    \n",
    "\n",
    "a = Amphibian()\n",
    "isinstance(a, LandAnimal), isinstance(a, WaterAnimal)"
   ]
  },
  {
   "cell_type": "code",
   "execution_count": 375,
   "metadata": {},
   "outputs": [
    {
     "data": {
      "text/plain": [
       "(True, True, True)"
      ]
     },
     "execution_count": 375,
     "metadata": {},
     "output_type": "execute_result"
    }
   ],
   "source": [
    "a.canwalk, a.canswim, a.haslegs"
   ]
  },
  {
   "cell_type": "markdown",
   "metadata": {},
   "source": [
    "To call the constructor (or any method) of a superclass, you use super().method. If you're unsure what its arguments were, you can just use *args and \\**kwargs"
   ]
  },
  {
   "cell_type": "code",
   "execution_count": 377,
   "metadata": {},
   "outputs": [
    {
     "data": {
      "text/plain": [
       "(True, True, True)"
      ]
     },
     "execution_count": 377,
     "metadata": {},
     "output_type": "execute_result"
    }
   ],
   "source": [
    "class Frog(Amphibian):\n",
    "    \n",
    "    def __init__(self, *args, ispoisonous=True, **kwargs):\n",
    "        self.eatsflies = True\n",
    "        self.ispoisonous = ispoisonous\n",
    "        super().__init__(*args, **kwargs)\n",
    "        \n",
    "c = Frog()\n",
    "c.eatsflies, c.ispoisonous, c.haslegs #the last one wouldn't exist if we didn't call the super-constructor"
   ]
  },
  {
   "cell_type": "markdown",
   "metadata": {},
   "source": [
    "## Duck Typing\n",
    "\n",
    "> *\"If it looks like a duck and quacks like a duck, it probably is a duck\"*.\n",
    "\n",
    "We stated before, that the type of a variable is only checked at the last possible minute. In fact, the philosophy of **duck typing** is that it doesn't even matter what type a variable is -- the only thing that matters is if you can do what you need to with it."
   ]
  },
  {
   "cell_type": "markdown",
   "metadata": {},
   "source": [
    "![Glossary: Duck Typing](ducktyping.png \"Glossary: Duck Typing\")"
   ]
  },
  {
   "cell_type": "code",
   "execution_count": 383,
   "metadata": {},
   "outputs": [],
   "source": [
    "class SomeAnimal(LandAnimal, WaterAnimal):\n",
    "    def __init__(self, *args, **kwargs):\n",
    "        self.lookslike = \"Duck\"\n",
    "        self.quackslike = \"Duck\"\n",
    "        super().__init__(*args, **kwargs)   "
   ]
  },
  {
   "cell_type": "code",
   "execution_count": 394,
   "metadata": {},
   "outputs": [
    {
     "name": "stdout",
     "output_type": "stream",
     "text": [
      "Hmm, maybe this one is not a duck\n",
      "<class '__main__.Frog'>\n"
     ]
    }
   ],
   "source": [
    "import random\n",
    "\n",
    "a = SomeAnimal() if random.randint(0,1) else Frog()\n",
    "\n",
    "if hasattr(a, \"lookslike\") and a.lookslike == \"Duck\" and hasattr(a, \"quackslike\") and a.quackslike == \"Duck\":\n",
    "    print(\"For all that matters, a is a duck!\")\n",
    "else:\n",
    "    print(\"Hmm, maybe this one is not a duck\")\n",
    "    \n",
    "print(type(a))"
   ]
  },
  {
   "cell_type": "markdown",
   "metadata": {},
   "source": [
    "## The Python data model & Dunder-methods\n",
    "\n",
    "As you worked with this already for the homework, I will shorten this part up:"
   ]
  },
  {
   "cell_type": "code",
   "execution_count": 395,
   "metadata": {},
   "outputs": [
    {
     "name": "stdout",
     "output_type": "stream",
     "text": [
      "6 <class 'int'>\n",
      "6 <class 'int'>\n"
     ]
    }
   ],
   "source": [
    "a = 3 + 3 \n",
    "print(a, type(a))\n",
    "\n",
    "b = int.__add__(3,3)\n",
    "print(b, type(b))"
   ]
  },
  {
   "cell_type": "code",
   "execution_count": 397,
   "metadata": {},
   "outputs": [
    {
     "name": "stdout",
     "output_type": "stream",
     "text": [
      "Triple(3,5,7)\n",
      "Triple(3,5,7)\n",
      "Triple(3,5,7)\n"
     ]
    }
   ],
   "source": [
    "class Triple:\n",
    "    def __init__(self, num1, num2, num3):\n",
    "        self.nums = num1, num2, num3\n",
    "    \n",
    "    def __add__(self, other):\n",
    "        return Triple(self.nums[0] + other.nums[0], self.nums[1] + other.nums[1], self.nums[2] + other.nums[2])\n",
    "        \n",
    "    def __str__(self):\n",
    "        return \"Triple(\"+str(self.nums[0])+\",\"+str(self.nums[1])+\",\"+str(self.nums[2])+\")\"\n",
    "    \n",
    "    def __contains__(self, value):\n",
    "        return value in self.nums\n",
    "    \n",
    "a = Triple(1,2,3)\n",
    "b = Triple(2,3,4)\n",
    "\n",
    "#these three are all the same! The first one is the fast way to write it, which \n",
    "#internally maps to the second, which internally maps to the third!\n",
    "print(a+b)\n",
    "print(a.__add__(b))\n",
    "print(Triple.__add__(a, b))"
   ]
  },
  {
   "cell_type": "code",
   "execution_count": 23,
   "metadata": {},
   "outputs": [
    {
     "data": {
      "text/plain": [
       "True"
      ]
     },
     "execution_count": 23,
     "metadata": {},
     "output_type": "execute_result"
    }
   ],
   "source": [
    "3 in Triple(1,2,3)"
   ]
  },
  {
   "cell_type": "code",
   "execution_count": null,
   "metadata": {},
   "outputs": [],
   "source": [
    "# So what will this call do?\n",
    "for value in a:\n",
    "    print(value)"
   ]
  },
  {
   "cell_type": "markdown",
   "metadata": {},
   "source": [
    "## Iterators"
   ]
  },
  {
   "cell_type": "code",
   "execution_count": null,
   "metadata": {},
   "outputs": [],
   "source": [
    "#Which ones of these will work, and which ones of these are pythonic?\n",
    "\n",
    "if isinstance(a, Iterable):\n",
    "    for value in a:\n",
    "        print(value)\n",
    "        \n",
    "if hasattr(a, \"__iter__\") or hasattr(a, \"__getitem__\"):\n",
    "    for value in a:\n",
    "        print(value)\n",
    "        \n",
    "try:\n",
    "    for value in a:\n",
    "        print(value)\n",
    "except TypeError:\n",
    "    pass"
   ]
  },
  {
   "cell_type": "raw",
   "metadata": {},
   "source": [
    "\n",
    "\n",
    "\n",
    "\n",
    "\n",
    "\n",
    "\n",
    "\n",
    "\n"
   ]
  },
  {
   "cell_type": "markdown",
   "metadata": {},
   "source": [
    "A general pythonic approach is to assume an iterable, then fail gracefully if it does not work on the given object."
   ]
  },
  {
   "cell_type": "code",
   "execution_count": 24,
   "metadata": {},
   "outputs": [
    {
     "name": "stdout",
     "output_type": "stream",
     "text": [
      "1\n",
      "2\n",
      "3\n"
     ]
    }
   ],
   "source": [
    "class Triple:\n",
    "    def __init__(self, num1, num2, num3):\n",
    "        self.nums = num1, num2, num3\n",
    "    \n",
    "    def __add__(self, other):\n",
    "        return Triple(self.nums[0] + other.nums[0], self.nums[1] + other.nums[1], self.nums[2] + other.nums[2])\n",
    "        \n",
    "    def __str__(self):\n",
    "        return \"Triple(\"+str(self.nums[0])+\",\"+str(self.nums[1])+\",\"+str(self.nums[2])+\")\"\n",
    "    \n",
    "    def __contains__(self, value):\n",
    "        return value in self.nums\n",
    "    \n",
    "    def __iter__(self):\n",
    "        return iter(self.nums)\n",
    "    \n",
    "a = Triple(1, 2, 3)\n",
    "\n",
    "try:\n",
    "    for value in a:\n",
    "        print(value)\n",
    "except TypeError:\n",
    "    pass"
   ]
  },
  {
   "cell_type": "markdown",
   "metadata": {},
   "source": [
    "The \\__iter\\__ - magic-method is what makes an object iterable. Behind the scenes, the iter()-method calls this function to get the iterator"
   ]
  },
  {
   "cell_type": "markdown",
   "metadata": {},
   "source": [
    "Here an example of how to create your own Range-function:"
   ]
  },
  {
   "cell_type": "code",
   "execution_count": 409,
   "metadata": {},
   "outputs": [],
   "source": [
    "class yrange:\n",
    "    def __init__(self, n):\n",
    "        self.i = 0\n",
    "        self.n = n\n",
    "\n",
    "    def __iter__(self):\n",
    "        return self\n",
    "\n",
    "    def __next__(self):\n",
    "        if self.i < self.n:\n",
    "            self.i += 1\n",
    "            return self.i\n",
    "        else:\n",
    "            raise StopIteration()"
   ]
  },
  {
   "cell_type": "code",
   "execution_count": 410,
   "metadata": {},
   "outputs": [
    {
     "name": "stdout",
     "output_type": "stream",
     "text": [
      "3\n",
      "4\n",
      "5\n"
     ]
    }
   ],
   "source": [
    "a = yrange(5)\n",
    "next(a)\n",
    "next(a)\n",
    "for i in a:\n",
    "    print(i)"
   ]
  },
  {
   "cell_type": "markdown",
   "metadata": {},
   "source": [
    "Python relies heavily on iterators, and you should use them everytime Python offers them!"
   ]
  },
  {
   "cell_type": "code",
   "execution_count": 50,
   "metadata": {},
   "outputs": [],
   "source": [
    "some_list = [1, 2, 3, 4]\n",
    "\n",
    "def check_all_numbers(thelist):\n",
    "#    for i in range(len(thelist)):  #this is not pythonic! You can use the fact that lists are iterable!\n",
    "#        assert isinstance(thelist[i], (int, float))\n",
    "    for elem in thelist:\n",
    "        assert isinstance(elem, (int, float))\n",
    "\n",
    "check_all_numbers(some_list)"
   ]
  },
  {
   "cell_type": "markdown",
   "metadata": {},
   "source": [
    "## @property and @staticmethod"
   ]
  },
  {
   "cell_type": "code",
   "execution_count": 418,
   "metadata": {},
   "outputs": [
    {
     "name": "stdout",
     "output_type": "stream",
     "text": [
      "(1, 2, 3)\n",
      "(4, 5, 6)\n",
      "(7, 8, 9)\n"
     ]
    },
    {
     "ename": "AttributeError",
     "evalue": "can't set attribute",
     "output_type": "error",
     "traceback": [
      "\u001b[0;31m---------------------------------------------------------------------------\u001b[0m",
      "\u001b[0;31mAttributeError\u001b[0m                            Traceback (most recent call last)",
      "\u001b[0;32m<ipython-input-418-369d2c4abeb5>\u001b[0m in \u001b[0;36m<module>\u001b[0;34m()\u001b[0m\n\u001b[1;32m     25\u001b[0m \u001b[0;34m\u001b[0m\u001b[0m\n\u001b[1;32m     26\u001b[0m \u001b[0;31m#will throw an error\u001b[0m\u001b[0;34m\u001b[0m\u001b[0;34m\u001b[0m\u001b[0m\n\u001b[0;32m---> 27\u001b[0;31m \u001b[0ma\u001b[0m\u001b[0;34m.\u001b[0m\u001b[0mdata\u001b[0m \u001b[0;34m=\u001b[0m \u001b[0;36m10\u001b[0m\u001b[0;34m,\u001b[0m \u001b[0;36m11\u001b[0m\u001b[0;34m,\u001b[0m \u001b[0;36m12\u001b[0m\u001b[0;34m\u001b[0m\u001b[0m\n\u001b[0m",
      "\u001b[0;31mAttributeError\u001b[0m: can't set attribute"
     ]
    }
   ],
   "source": [
    "class Triple():\n",
    "    \"\"\"I am a docstring\"\"\"\n",
    "    def __init__(self, num1, num2, num3):\n",
    "        self._data = num1, num2, num3\n",
    "      \n",
    "    @property\n",
    "    def data(self):\n",
    "        return self._data\n",
    "    \n",
    "    @staticmethod\n",
    "    def create(num1, num2, num3):\n",
    "        return Triple(num1, num2, num3)\n",
    "    \n",
    "def create_outside(num1, num2, num3):\n",
    "    return Triple(num1, num2, num3)\n",
    "    \n",
    "a = Triple(1, 2, 3)\n",
    "print(a.data)\n",
    "\n",
    "b = Triple.create(4, 5, 6)\n",
    "print(b.data)\n",
    "\n",
    "c = create_outside(7, 8, 9)\n",
    "print(c.data)\n",
    "\n",
    "#will throw an error\n",
    "a.data = 10, 11, 12"
   ]
  },
  {
   "cell_type": "markdown",
   "metadata": {},
   "source": [
    "# Advanced Python"
   ]
  },
  {
   "cell_type": "markdown",
   "metadata": {},
   "source": [
    "## Generators\n",
    "\n",
    "A Python generator is a function which returns a generator iterator by calling `yield`. yield may be called with a value, in which case that value is treated as the \"generated\" value. The next time `next()` is called on the generator iterator (i.e. in the next step in a for loop, for example), the generator resumes execution from where it called `yield`, not from the beginning of the function. All of the state, like the values of local variables, is recovered and the generator contiues to execute until the next call to `yield`. \n",
    "\n",
    "https://jeffknupp.com/blog/2013/04/07/improve-your-python-yield-and-generators-explained/"
   ]
  },
  {
   "cell_type": "code",
   "execution_count": 421,
   "metadata": {},
   "outputs": [
    {
     "name": "stdout",
     "output_type": "stream",
     "text": [
      "1\n",
      "10\n",
      "3\n",
      "5\n"
     ]
    }
   ],
   "source": [
    "def generate_numbers():\n",
    "    yield 1\n",
    "    yield 10\n",
    "    yield 3\n",
    "    yield 5\n",
    "    \n",
    "for i in generate_numbers():\n",
    "    print(i)"
   ]
  },
  {
   "cell_type": "code",
   "execution_count": 430,
   "metadata": {},
   "outputs": [
    {
     "name": "stdout",
     "output_type": "stream",
     "text": [
      "<generator object generate_numbers at 0x7ff2346d6518>\n",
      "1\n",
      "\n",
      "10\n",
      "3\n",
      "5\n"
     ]
    },
    {
     "ename": "StopIteration",
     "evalue": "",
     "output_type": "error",
     "traceback": [
      "\u001b[0;31m---------------------------------------------------------------------------\u001b[0m",
      "\u001b[0;31mStopIteration\u001b[0m                             Traceback (most recent call last)",
      "\u001b[0;32m<ipython-input-430-f0eae2ecc239>\u001b[0m in \u001b[0;36m<module>\u001b[0;34m()\u001b[0m\n\u001b[1;32m      8\u001b[0m     \u001b[0mprint\u001b[0m\u001b[0;34m(\u001b[0m\u001b[0mi\u001b[0m\u001b[0;34m)\u001b[0m\u001b[0;34m\u001b[0m\u001b[0m\n\u001b[1;32m      9\u001b[0m \u001b[0;34m\u001b[0m\u001b[0m\n\u001b[0;32m---> 10\u001b[0;31m \u001b[0mprint\u001b[0m\u001b[0;34m(\u001b[0m\u001b[0mnext\u001b[0m\u001b[0;34m(\u001b[0m\u001b[0ma\u001b[0m\u001b[0;34m)\u001b[0m\u001b[0;34m)\u001b[0m \u001b[0;31m#will throw a StopIteration\u001b[0m\u001b[0;34m\u001b[0m\u001b[0m\n\u001b[0m",
      "\u001b[0;31mStopIteration\u001b[0m: "
     ]
    }
   ],
   "source": [
    "a = generate_numbers()\n",
    "print(a)\n",
    "\n",
    "print(next(a))\n",
    "print()\n",
    "\n",
    "for i in a:\n",
    "    print(i)\n",
    "    \n",
    "print(next(a)) #will throw a StopIteration"
   ]
  },
  {
   "cell_type": "markdown",
   "metadata": {},
   "source": [
    "When we call a normal Python function, execution starts at function's first line and continues until a return statement, exception, or the end of the function is encountered. \n",
    "Once a function returns control to its caller, any work done by the function and stored in local variables is lost. A new call to the function creates everything from scratch. \n",
    "\n",
    "A **generator** is a certain kind of function (recognized by the keyword *yield* in place of *return*), that doesn't lose its data. If a generator is called, it will run until the next occurence of the `yield` keyword. When called again, it starts right after that, and runs until the next occurence of `yield`.\n",
    "\n",
    "A generator is an iterator, which means you can loop over it, call next(), and use it the way you'd use any other iterator"
   ]
  },
  {
   "cell_type": "code",
   "execution_count": 433,
   "metadata": {},
   "outputs": [
    {
     "data": {
      "text/plain": [
       "(True, True)"
      ]
     },
     "execution_count": 433,
     "metadata": {},
     "output_type": "execute_result"
    }
   ],
   "source": [
    "hasattr(a, '__iter__'), hasattr(a, '__next__')"
   ]
  },
  {
   "cell_type": "markdown",
   "metadata": {},
   "source": [
    "### Use cases of generators\n",
    "\n",
    "Imagine we want to find all primes until a certain number we specify. How would we normally do that?"
   ]
  },
  {
   "cell_type": "code",
   "execution_count": 566,
   "metadata": {},
   "outputs": [
    {
     "data": {
      "text/plain": [
       "[2, 3, 5, 7]"
      ]
     },
     "execution_count": 566,
     "metadata": {},
     "output_type": "execute_result"
    }
   ],
   "source": [
    "import math\n",
    "def is_prime(number):\n",
    "    if number == 2 or number == 5:\n",
    "        return True\n",
    "    if number == 1 or number % 2 == 0 or str(number)[-1] == '5':\n",
    "        return False\n",
    "    for i in range(3,int(math.sqrt(number))+1,2):\n",
    "        if number % i == 0:\n",
    "            return False\n",
    "    return True\n",
    "\n",
    "def get_primes(until_number):\n",
    "    result_list = []\n",
    "    curr_number = 1\n",
    "    while curr_number <= until_number:\n",
    "        if is_prime(curr_number):\n",
    "            result_list.append(curr_number)\n",
    "        curr_number += 1\n",
    "    return result_list\n",
    "\n",
    "get_primes(10)"
   ]
  },
  {
   "cell_type": "code",
   "execution_count": 449,
   "metadata": {},
   "outputs": [
    {
     "ename": "KeyboardInterrupt",
     "evalue": "",
     "output_type": "error",
     "traceback": [
      "\u001b[0;31m---------------------------------------------------------------------------\u001b[0m",
      "\u001b[0;31mKeyboardInterrupt\u001b[0m                         Traceback (most recent call last)",
      "\u001b[0;32m<ipython-input-449-b93de81fdf4b>\u001b[0m in \u001b[0;36m<module>\u001b[0;34m()\u001b[0m\n\u001b[0;32m----> 1\u001b[0;31m \u001b[0;32mfor\u001b[0m \u001b[0mi\u001b[0m \u001b[0;32min\u001b[0m \u001b[0mget_primes\u001b[0m\u001b[0;34m(\u001b[0m\u001b[0;36m999999\u001b[0m\u001b[0;34m)\u001b[0m\u001b[0;34m:\u001b[0m \u001b[0;31m#will run forever, running out of memory eventually\u001b[0m\u001b[0;34m\u001b[0m\u001b[0m\n\u001b[0m\u001b[1;32m      2\u001b[0m     \u001b[0mprint\u001b[0m\u001b[0;34m(\u001b[0m\u001b[0mi\u001b[0m\u001b[0;34m)\u001b[0m\u001b[0;34m\u001b[0m\u001b[0m\n",
      "\u001b[0;32m<ipython-input-447-cea032cf897d>\u001b[0m in \u001b[0;36mget_primes\u001b[0;34m(until_number)\u001b[0m\n\u001b[1;32m     13\u001b[0m     \u001b[0mresult_list\u001b[0m \u001b[0;34m=\u001b[0m \u001b[0;34m[\u001b[0m\u001b[0;34m]\u001b[0m\u001b[0;34m\u001b[0m\u001b[0m\n\u001b[1;32m     14\u001b[0m     \u001b[0;32mfor\u001b[0m \u001b[0melement\u001b[0m \u001b[0;32min\u001b[0m \u001b[0mrange\u001b[0m\u001b[0;34m(\u001b[0m\u001b[0muntil_number\u001b[0m\u001b[0;34m)\u001b[0m\u001b[0;34m:\u001b[0m\u001b[0;34m\u001b[0m\u001b[0m\n\u001b[0;32m---> 15\u001b[0;31m         \u001b[0;32mif\u001b[0m \u001b[0mis_prime\u001b[0m\u001b[0;34m(\u001b[0m\u001b[0melement\u001b[0m\u001b[0;34m)\u001b[0m\u001b[0;34m:\u001b[0m\u001b[0;34m\u001b[0m\u001b[0m\n\u001b[0m\u001b[1;32m     16\u001b[0m             \u001b[0mresult_list\u001b[0m\u001b[0;34m.\u001b[0m\u001b[0mappend\u001b[0m\u001b[0;34m(\u001b[0m\u001b[0melement\u001b[0m\u001b[0;34m)\u001b[0m\u001b[0;34m\u001b[0m\u001b[0m\n\u001b[1;32m     17\u001b[0m     \u001b[0;32mreturn\u001b[0m \u001b[0mresult_list\u001b[0m\u001b[0;34m\u001b[0m\u001b[0m\n",
      "\u001b[0;32m<ipython-input-447-cea032cf897d>\u001b[0m in \u001b[0;36mis_prime\u001b[0;34m(number)\u001b[0m\n\u001b[1;32m      6\u001b[0m         \u001b[0;32mreturn\u001b[0m \u001b[0;32mFalse\u001b[0m\u001b[0;34m\u001b[0m\u001b[0m\n\u001b[1;32m      7\u001b[0m     \u001b[0;32mfor\u001b[0m \u001b[0mi\u001b[0m \u001b[0;32min\u001b[0m \u001b[0mrange\u001b[0m\u001b[0;34m(\u001b[0m\u001b[0;36m3\u001b[0m\u001b[0;34m,\u001b[0m\u001b[0mint\u001b[0m\u001b[0;34m(\u001b[0m\u001b[0mmath\u001b[0m\u001b[0;34m.\u001b[0m\u001b[0msqrt\u001b[0m\u001b[0;34m(\u001b[0m\u001b[0mnumber\u001b[0m\u001b[0;34m)\u001b[0m\u001b[0;34m)\u001b[0m\u001b[0;34m+\u001b[0m\u001b[0;36m1\u001b[0m\u001b[0;34m,\u001b[0m\u001b[0;36m2\u001b[0m\u001b[0;34m)\u001b[0m\u001b[0;34m:\u001b[0m\u001b[0;34m\u001b[0m\u001b[0m\n\u001b[0;32m----> 8\u001b[0;31m         \u001b[0;32mif\u001b[0m \u001b[0mnumber\u001b[0m \u001b[0;34m%\u001b[0m \u001b[0mi\u001b[0m \u001b[0;34m==\u001b[0m \u001b[0;36m0\u001b[0m\u001b[0;34m:\u001b[0m\u001b[0;34m\u001b[0m\u001b[0m\n\u001b[0m\u001b[1;32m      9\u001b[0m             \u001b[0;32mreturn\u001b[0m \u001b[0;32mFalse\u001b[0m\u001b[0;34m\u001b[0m\u001b[0m\n\u001b[1;32m     10\u001b[0m     \u001b[0;32mreturn\u001b[0m \u001b[0;32mTrue\u001b[0m\u001b[0;34m\u001b[0m\u001b[0m\n",
      "\u001b[0;31mKeyboardInterrupt\u001b[0m: "
     ]
    }
   ],
   "source": [
    "for i in get_primes(999999): #will run forever, running out of memory eventually\n",
    "    print(i)  "
   ]
  },
  {
   "cell_type": "markdown",
   "metadata": {},
   "source": [
    "What's the problem in the above function? It's the fact, that our is_prime function **only get one chance to return results, and thus must return all results at once**. It would in this case be much more useful to return the **next** value instead of all values at once. We wouldn't even need a list, solivng our memory issues!"
   ]
  },
  {
   "cell_type": "code",
   "execution_count": 456,
   "metadata": {},
   "outputs": [
    {
     "name": "stdout",
     "output_type": "stream",
     "text": [
      "2\n",
      "3\n",
      "5\n",
      "7\n"
     ]
    }
   ],
   "source": [
    "import time\n",
    "def get_primes(until_number):\n",
    "    curr_number = 1\n",
    "    while curr_number <= until_number:\n",
    "        if is_prime(curr_number):\n",
    "            yield curr_number\n",
    "        curr_number += 1\n",
    "        \n",
    "for i in get_primes(7):\n",
    "    print(i)"
   ]
  },
  {
   "cell_type": "code",
   "execution_count": null,
   "metadata": {},
   "outputs": [],
   "source": [
    "for i in get_primes(999999): #will return one by one\n",
    "    print(i)  \n",
    "    time.sleep(0.5)"
   ]
  },
  {
   "cell_type": "markdown",
   "metadata": {},
   "source": [
    "## IO (Input-Output)"
   ]
  },
  {
   "cell_type": "code",
   "execution_count": 467,
   "metadata": {},
   "outputs": [],
   "source": [
    "string = \"\"\"hello world!\n",
    "this is chris, and I am writing \n",
    "this message!\n",
    "\"\"\"\n",
    "fh = open('test.txt', 'w') # open needs as arguments the file-path, and a mode (\"r\": read, \"w\": write, \"a\": append, \n",
    "                           #                                                    \"rb\": read binary, \"wb\": write binary, \"a\": append binary) \n",
    "                           # and returns a file-handle we can work with\n",
    "fh.write(string)\n",
    "fh.close()                 # don't forget to close the file afterwards!"
   ]
  },
  {
   "cell_type": "code",
   "execution_count": 472,
   "metadata": {},
   "outputs": [
    {
     "name": "stdout",
     "output_type": "stream",
     "text": [
      "hello world!\n",
      "this is chris, and I am writing \n",
      "this message!\n"
     ]
    }
   ],
   "source": [
    "%%bash\n",
    "cat test.txt"
   ]
  },
  {
   "cell_type": "code",
   "execution_count": 519,
   "metadata": {},
   "outputs": [
    {
     "name": "stdout",
     "output_type": "stream",
     "text": [
      "True\n",
      "<class 'list'>\n"
     ]
    }
   ],
   "source": [
    "# reading example:\n",
    "fh = open('test.txt', 'r')\n",
    "lines = fh.readlines()\n",
    "\n",
    "print(type(lines))\n",
    "print(hasattr(lines, \"__iter__\")) #it's iterable!\n",
    "\n",
    "for line in lines:\n",
    "    print(line, end='')\n",
    "\n",
    "fh.close()"
   ]
  },
  {
   "cell_type": "markdown",
   "metadata": {},
   "source": [
    "### Under the hood: Context managers\n",
    "Context managers are really useful for handling resources that need to released after they are no longer used. The prototypical example is file IO."
   ]
  },
  {
   "cell_type": "code",
   "execution_count": 493,
   "metadata": {},
   "outputs": [],
   "source": [
    "with open('save_file.txt', mode='w') as file_context:    # __enter__ is called here.\n",
    "    file_context.write('You cannot forget to close me.')\n",
    "# __exit__ is called here."
   ]
  },
  {
   "cell_type": "code",
   "execution_count": 494,
   "metadata": {},
   "outputs": [
    {
     "name": "stdout",
     "output_type": "stream",
     "text": [
      "Entering context.\n",
      "I am inside the context\n",
      "Exiting context.\n"
     ]
    }
   ],
   "source": [
    "class PrintingContext:\n",
    "    \n",
    "    def __enter__(self):\n",
    "        print('Entering context.')\n",
    "    \n",
    "    def __exit__(self, exception_type, exception_value, traceback):\n",
    "        print('Exiting context.')\n",
    "        \n",
    "        \n",
    "with PrintingContext():\n",
    "    print('I am inside the context')"
   ]
  },
  {
   "cell_type": "code",
   "execution_count": 495,
   "metadata": {},
   "outputs": [
    {
     "name": "stdout",
     "output_type": "stream",
     "text": [
      "Entering context.\n",
      "I am inside the context\n",
      "Exiting context.\n"
     ]
    }
   ],
   "source": [
    "class PrintingContext:\n",
    "    \n",
    "    def __enter__(self):\n",
    "        print('Entering context.')\n",
    "    \n",
    "    def __exit__(self, exception_type, exception_value, traceback):\n",
    "        print('Exiting context.')\n",
    "        \n",
    "        \n",
    "with PrintingContext():\n",
    "    print('I am inside the context')"
   ]
  },
  {
   "cell_type": "code",
   "execution_count": 496,
   "metadata": {},
   "outputs": [
    {
     "name": "stdout",
     "output_type": "stream",
     "text": [
      "['You cannot forget to close me.']\n"
     ]
    }
   ],
   "source": [
    "class File():\n",
    "\n",
    "    def __init__(self, filename, mode):\n",
    "        self.filename = filename\n",
    "        self.mode = mode\n",
    "\n",
    "    def __enter__(self):\n",
    "        self.open_file = open(self.filename, self.mode)\n",
    "        return self.open_file\n",
    "\n",
    "    def __exit__(self, *args):\n",
    "        self.open_file.close()\n",
    "\n",
    "with File('save_file.txt', mode='r') as fh:\n",
    "    print(fh.readlines())"
   ]
  },
  {
   "cell_type": "markdown",
   "metadata": {},
   "source": [
    "more info on context managers: https://jeffknupp.com/blog/2016/03/07/python-with-context-managers/\n",
    "\n",
    "### Working with CSVs\n",
    "\n",
    "CSV-files are a very simple yet useful file-format. CSV stands for *comma-separated values* -- the contents of a csv-file may look like this:  "
   ]
  },
  {
   "cell_type": "code",
   "execution_count": 497,
   "metadata": {},
   "outputs": [
    {
     "name": "stdout",
     "output_type": "stream",
     "text": [
      "file_name, image_shows, image_type_group  \n",
      "img_0001,  cat,         Product Image  \n",
      "img_0002,  dog,         Product Image  \n",
      "img_0003,  transistor,  Product Image  \n",
      "img_0004,  human,       Product Image  "
     ]
    }
   ],
   "source": [
    "%%bash\n",
    "cat images.csv"
   ]
  },
  {
   "cell_type": "markdown",
   "metadata": {},
   "source": [
    "Python offers the module `csv` for working with CSV-files. Let's use that and find a smart way to incorporate such files!"
   ]
  },
  {
   "cell_type": "code",
   "execution_count": 500,
   "metadata": {},
   "outputs": [
    {
     "name": "stdout",
     "output_type": "stream",
     "text": [
      "['file_name', 'image_shows', 'image_type_group']\n",
      "['img_0001', 'cat', 'Product Image']\n",
      "['img_0002', 'dog', 'Product Image']\n",
      "['img_0003', 'transistor', 'Product Image']\n",
      "['img_0004', 'human', 'Product Image']\n"
     ]
    }
   ],
   "source": [
    "import csv\n",
    "\n",
    "with open('images_unformatted.csv', newline='') as csvfile:\n",
    "    reader = csv.reader(csvfile, delimiter=\",\")\n",
    "    for i in reader:\n",
    "        print(i)"
   ]
  },
  {
   "cell_type": "code",
   "execution_count": 512,
   "metadata": {},
   "outputs": [
    {
     "data": {
      "text/plain": [
       "[['file_name', 'image_shows', 'image_type_group'],\n",
       " ['img_0001', 'cat', 'Product Image'],\n",
       " ['img_0002', 'dog', 'Product Image'],\n",
       " ['img_0003', 'transistor', 'Product Image'],\n",
       " ['img_0004', 'human', 'Product Image']]"
      ]
     },
     "execution_count": 512,
     "metadata": {},
     "output_type": "execute_result"
    }
   ],
   "source": [
    "file_list = []\n",
    "with open('images_unformatted.csv', newline='') as csvfile:\n",
    "    reader = csv.reader(csvfile, delimiter=\",\")\n",
    "    for i in reader:\n",
    "        file_list.append(i)\n",
    "        \n",
    "file_list"
   ]
  },
  {
   "cell_type": "markdown",
   "metadata": {},
   "source": [
    "Isn't it a bit annoying that we have the first line here? Isn't there a way around it...?"
   ]
  },
  {
   "cell_type": "code",
   "execution_count": 510,
   "metadata": {},
   "outputs": [
    {
     "data": {
      "text/plain": [
       "[['img_0001', 'cat', 'Product Image'],\n",
       " ['img_0002', 'dog', 'Product Image'],\n",
       " ['img_0003', 'transistor', 'Product Image'],\n",
       " ['img_0004', 'human', 'Product Image']]"
      ]
     },
     "execution_count": 510,
     "metadata": {},
     "output_type": "execute_result"
    }
   ],
   "source": [
    "file_list = []\n",
    "with open('images_unformatted.csv', newline='') as csvfile:\n",
    "    reader = csv.reader(csvfile, delimiter=\",\")\n",
    "    first = True\n",
    "    for i in reader:\n",
    "        if first:\n",
    "            first = False\n",
    "            continue\n",
    "        file_list.append(i)\n",
    "        \n",
    "        \n",
    "file_list"
   ]
  },
  {
   "cell_type": "code",
   "execution_count": 517,
   "metadata": {},
   "outputs": [
    {
     "data": {
      "text/plain": [
       "[['img_0001', 'cat', 'Product Image'],\n",
       " ['img_0002', 'dog', 'Product Image'],\n",
       " ['img_0003', 'transistor', 'Product Image'],\n",
       " ['img_0004', 'human', 'Product Image']]"
      ]
     },
     "execution_count": 517,
     "metadata": {},
     "output_type": "execute_result"
    }
   ],
   "source": [
    "# We know better...!\n",
    "\n",
    "file_list = []\n",
    "with open('images_unformatted.csv', newline='') as csvfile:\n",
    "    reader = csv.reader(csvfile, delimiter=\",\")\n",
    "    next(reader)\n",
    "    for i in reader:\n",
    "        file_list.append(i)\n",
    "        \n",
    "file_list"
   ]
  },
  {
   "cell_type": "markdown",
   "metadata": {},
   "source": [
    "If we directly want to make it to a dictonary, there's a nice method for that..!"
   ]
  },
  {
   "cell_type": "code",
   "execution_count": 513,
   "metadata": {},
   "outputs": [
    {
     "data": {
      "text/plain": [
       "[{'file_name': 'img_0001',\n",
       "  'image_shows': 'cat',\n",
       "  'image_type_group': 'Product Image'},\n",
       " {'file_name': 'img_0002',\n",
       "  'image_shows': 'dog',\n",
       "  'image_type_group': 'Product Image'},\n",
       " {'file_name': 'img_0003',\n",
       "  'image_shows': 'transistor',\n",
       "  'image_type_group': 'Product Image'},\n",
       " {'file_name': 'img_0004',\n",
       "  'image_shows': 'human',\n",
       "  'image_type_group': 'Product Image'}]"
      ]
     },
     "execution_count": 513,
     "metadata": {},
     "output_type": "execute_result"
    }
   ],
   "source": [
    "file_list = []\n",
    "\n",
    "with open('images_unformatted.csv', newline='') as csvfile:\n",
    "    reader = csv.DictReader(csvfile, delimiter=\",\")\n",
    "    for i in reader:\n",
    "        file_list.append(dict(i))\n",
    "    \n",
    "file_list"
   ]
  },
  {
   "cell_type": "markdown",
   "metadata": {},
   "source": [
    "#### Saving a list of dictionaries as csv-file"
   ]
  },
  {
   "cell_type": "code",
   "execution_count": 522,
   "metadata": {},
   "outputs": [],
   "source": [
    "cats_dict = [{\"name\": \"kitty\", \"color\": \"black\"}, {\"name\": \"pussy\", \"color\": \"black\"}, {\"name\": \"findus\", \"color\": \"brown\"}]\n",
    "keys = list(cats_dict[0].keys())\n",
    "\n",
    "with open(\"cats.csv\", 'w') as output_file:\n",
    "    dict_writer = csv.DictWriter(output_file, keys)\n",
    "    dict_writer.writeheader()\n",
    "    dict_writer.writerows(cats_dict)\n",
    "    \n",
    "#this is not perfect! Why?"
   ]
  },
  {
   "cell_type": "markdown",
   "metadata": {},
   "source": [
    "## Exceptions"
   ]
  },
  {
   "cell_type": "code",
   "execution_count": 284,
   "metadata": {},
   "outputs": [],
   "source": [
    "import random"
   ]
  },
  {
   "cell_type": "code",
   "execution_count": 289,
   "metadata": {},
   "outputs": [],
   "source": [
    "a = [1, 2, 3] if random.randint(0,1) else 1\n",
    "\n",
    "first_val = a[0] #throws an Exception in 50% of cases"
   ]
  },
  {
   "cell_type": "code",
   "execution_count": 301,
   "metadata": {},
   "outputs": [
    {
     "name": "stdout",
     "output_type": "stream",
     "text": [
      "<class 'TypeError'> 'int' object is not subscriptable\n"
     ]
    }
   ],
   "source": [
    "a = [1, 2, 3] if random.randint(0,1) else 1\n",
    "\n",
    "# we can catch that exception! In Java, this is try-catch, in python it's called try-except\n",
    "try:\n",
    "    first_val = a[0]\n",
    "    print(\"everything worked!\")\n",
    "except Exception as e:\n",
    "    print(type(e), e)"
   ]
  },
  {
   "cell_type": "code",
   "execution_count": 309,
   "metadata": {},
   "outputs": [
    {
     "name": "stdout",
     "output_type": "stream",
     "text": [
      "this will be executed whether the try block throws an error or not\n"
     ]
    }
   ],
   "source": [
    "try:\n",
    "    file_handle = open('test.txt')\n",
    "except FileNotFoundError as err:\n",
    "    print('this will be executed if a FileNotFoundError occurs')\n",
    "    print(err)\n",
    "finally:\n",
    "    print('this will be executed whether the try block throws an error or not')\n",
    "    file_handle.close()\n"
   ]
  },
  {
   "cell_type": "code",
   "execution_count": 311,
   "metadata": {},
   "outputs": [
    {
     "name": "stdout",
     "output_type": "stream",
     "text": [
      "index error\n"
     ]
    }
   ],
   "source": [
    "# Exceptions will go up through functions if unhandled\n",
    "def foo():\n",
    "    try:\n",
    "        [1, 2][3] #this will cause an IndexError, however as it isn't handled here, the error is thrown upward to the caller\n",
    "        open('asdf')\n",
    "    except FileNotFoundError as err:\n",
    "        print('file not found error')\n",
    "\n",
    "try:\n",
    "    foo()\n",
    "    print(\"won't be reached\")\n",
    "except IndexError as err:\n",
    "    print('index error')"
   ]
  },
  {
   "cell_type": "code",
   "execution_count": 315,
   "metadata": {},
   "outputs": [
    {
     "name": "stdout",
     "output_type": "stream",
     "text": [
      "this will run\n"
     ]
    }
   ],
   "source": [
    "# you can catch multiple exceptions in one try-except statement\n",
    "\n",
    "try:\n",
    "    [1,2][3]\n",
    "except Exception:         #it will start chronologically at the first one, looking if this fits....\n",
    "    print(\"this will run\") \n",
    "except IndexError:        #and if it does, it won't execute the others\n",
    "    print(\"this won't..\")\n"
   ]
  },
  {
   "cell_type": "markdown",
   "metadata": {},
   "source": [
    "![exceptions](./errors.png)"
   ]
  },
  {
   "cell_type": "code",
   "execution_count": 323,
   "metadata": {},
   "outputs": [
    {
     "name": "stdout",
     "output_type": "stream",
     "text": [
      "randval is: 2\n",
      "this will run if randval was 2\n"
     ]
    }
   ],
   "source": [
    "#try-except also has an 'else', which runs if no error was thrown\n",
    "try:\n",
    "    randval = random.randint(0,2)\n",
    "    print(\"randval is:\", randval)\n",
    "    if randval == 0:\n",
    "        [1,2][3]\n",
    "    elif randval == 1:\n",
    "        5/0\n",
    "except IndexError: \n",
    "    print(\"this will run if randval was 0\") \n",
    "except ZeroDivisionError:       \n",
    "    print(\"this will run if randval was 1\")\n",
    "else:\n",
    "    print(\"this will run if randval was 2\")"
   ]
  },
  {
   "cell_type": "code",
   "execution_count": 327,
   "metadata": {},
   "outputs": [
    {
     "name": "stdout",
     "output_type": "stream",
     "text": [
      "True\n"
     ]
    }
   ],
   "source": [
    "# You can even extend Exception yourself, to throw your own errors!\n",
    "\n",
    "class NotTheValueIWantedException(Exception):\n",
    "    pass\n",
    "\n",
    "print(isinstance(NotTheValueIWantedException(), Exception))"
   ]
  },
  {
   "cell_type": "code",
   "execution_count": 332,
   "metadata": {},
   "outputs": [
    {
     "name": "stdout",
     "output_type": "stream",
     "text": [
      "A value it accepted was: 42\n",
      "A value it accepted was: 1337\n"
     ]
    }
   ],
   "source": [
    "def my_method(value):\n",
    "    if value != 42 and value != 1337:\n",
    "        raise NotTheValueIWantedException\n",
    "        \n",
    "for i in range(2000):\n",
    "    try:\n",
    "        my_method(i)\n",
    "        print(\"A value it accepted was:\", i)\n",
    "    except NotTheValueIWantedException:\n",
    "        pass"
   ]
  },
  {
   "cell_type": "markdown",
   "metadata": {},
   "source": [
    "## Decorators (general)\n",
    "Decorators a functions that change the functionality of other functions or classes. This should be usually be done in a transparent manner, i.e. the interface of the original function stays basically the same, while the functionaliy is added around it"
   ]
  },
  {
   "cell_type": "code",
   "execution_count": 137,
   "metadata": {
    "collapsed": false
   },
   "outputs": [
    {
     "name": "stdout",
     "output_type": "stream",
     "text": [
      "~~~ result of substract ~~~\n",
      "3\n",
      "~~~~~~~~~~~~~~~~~~~~~~~~~~~\n"
     ]
    },
    {
     "data": {
      "text/plain": [
       "3"
      ]
     },
     "execution_count": 137,
     "metadata": {},
     "output_type": "execute_result"
    }
   ],
   "source": [
    "def substract(x, y):\n",
    "    return x - y\n",
    "\n",
    "def decorated_substract(*args, **kwargs):\n",
    "    result = substract(*args, **kwargs)              \n",
    "    print('~~~ result of', substract.__name__, '~~~')\n",
    "    print(result)                               \n",
    "    print('~~~~~~~~~~~~~~~~~~~~~~~~~~~')        \n",
    "    return result    \n",
    "    \n",
    "decorated_substract(5, 2)"
   ]
  },
  {
   "cell_type": "markdown",
   "metadata": {},
   "source": [
    "This however only creates a new function, containing a changed behaviour of the substract-function. What if we want to change the behaviour of arbitrary functions?"
   ]
  },
  {
   "cell_type": "code",
   "execution_count": 169,
   "metadata": {},
   "outputs": [
    {
     "name": "stdout",
     "output_type": "stream",
     "text": [
      "~~~ result of add ~~~\n",
      "7\n",
      "~~~~~~~~~~~~~~~~~~~~~~~~~~~\n"
     ]
    },
    {
     "data": {
      "text/plain": [
       "7"
      ]
     },
     "execution_count": 169,
     "metadata": {},
     "output_type": "execute_result"
    }
   ],
   "source": [
    "def substract(x, y):\n",
    "    return x - y\n",
    "\n",
    "def add(x, y):\n",
    "    return x + y\n",
    "\n",
    "def decorated(func, *args, **kwargs):\n",
    "    result = func(*args, **kwargs)              \n",
    "    print('~~~ result of', func.__name__, '~~~')\n",
    "    print(result)                               \n",
    "    print('~~~~~~~~~~~~~~~~~~~~~~~~~~~')        \n",
    "    return result    \n",
    "    \n",
    "decorated(add, 5, 2)"
   ]
  },
  {
   "cell_type": "markdown",
   "metadata": {},
   "source": [
    "We're still not okay with this, because we want to change the behaviour of `add` itself!"
   ]
  },
  {
   "cell_type": "code",
   "execution_count": 170,
   "metadata": {},
   "outputs": [],
   "source": [
    "def print_decorator(func):                           # func is the method which will be decorated by this\n",
    "        \n",
    "    print(\"This occurs when we re-define the function\")\n",
    "    \n",
    "    #if we define function = decorated(function), the new function will be this:\n",
    "    \n",
    "    def inner(*args, **kwargs):                      # we define a new function here, taking any parameters...\n",
    "        result = func(*args, **kwargs)               # which, when called, executes the original function with these parameters...\n",
    "        print('~~~ result of', func.__name__, '~~~') # prints name of original funciton...\n",
    "        print(result)                                # prints the result of the function...\n",
    "        print('~~~~~~~~~~~~~~~~~~~~~~~~~~~')         # some lines...\n",
    "        return result                                # and returns that result of that function \n",
    "    \n",
    "    return inner   # the new function is this inner function!"
   ]
  },
  {
   "cell_type": "code",
   "execution_count": 172,
   "metadata": {},
   "outputs": [
    {
     "name": "stdout",
     "output_type": "stream",
     "text": [
      "This occurs when we re-define the function\n"
     ]
    }
   ],
   "source": [
    "decorated_add = print_decorator(add)"
   ]
  },
  {
   "cell_type": "code",
   "execution_count": 173,
   "metadata": {},
   "outputs": [
    {
     "name": "stdout",
     "output_type": "stream",
     "text": [
      "~~~ result of add ~~~\n",
      "8\n",
      "~~~~~~~~~~~~~~~~~~~~~~~~~~~\n"
     ]
    },
    {
     "data": {
      "text/plain": [
       "8"
      ]
     },
     "execution_count": 173,
     "metadata": {},
     "output_type": "execute_result"
    }
   ],
   "source": [
    "decorated_add(3,5)"
   ]
  },
  {
   "cell_type": "code",
   "execution_count": 175,
   "metadata": {},
   "outputs": [
    {
     "name": "stdout",
     "output_type": "stream",
     "text": [
      "This occurs when we re-define the function\n",
      "~~~ result of add ~~~\n",
      "8\n",
      "~~~~~~~~~~~~~~~~~~~~~~~~~~~\n"
     ]
    },
    {
     "data": {
      "text/plain": [
       "8"
      ]
     },
     "execution_count": 175,
     "metadata": {},
     "output_type": "execute_result"
    }
   ],
   "source": [
    "add = print_decorator(add)\n",
    "add(3,5)"
   ]
  },
  {
   "cell_type": "markdown",
   "metadata": {},
   "source": [
    "#### Python provides a syntax for the assignment function=decorated(function)\n",
    "This however just *syntactic sugar* for calling the decorator directly. "
   ]
  },
  {
   "cell_type": "code",
   "execution_count": 177,
   "metadata": {},
   "outputs": [
    {
     "name": "stdout",
     "output_type": "stream",
     "text": [
      "This occurs when we re-define the function\n",
      "~~~ result of multiply ~~~\n",
      "15\n",
      "~~~~~~~~~~~~~~~~~~~~~~~~~~~\n",
      "~~~ result of multiply ~~~\n",
      "20\n",
      "~~~~~~~~~~~~~~~~~~~~~~~~~~~\n"
     ]
    },
    {
     "data": {
      "text/plain": [
       "20"
      ]
     },
     "execution_count": 177,
     "metadata": {},
     "output_type": "execute_result"
    }
   ],
   "source": [
    "@print_decorator\n",
    "def multiply(x,y):\n",
    "    return x*y\n",
    "\n",
    "multiply(3,5)\n",
    "multiply(4,5)"
   ]
  },
  {
   "cell_type": "markdown",
   "metadata": {},
   "source": [
    "We can even chain decorators!"
   ]
  },
  {
   "cell_type": "code",
   "execution_count": 576,
   "metadata": {
    "collapsed": false
   },
   "outputs": [
    {
     "data": {
      "text/plain": [
       "\u001b[0;31mSignature:\u001b[0m \u001b[0mhello\u001b[0m\u001b[0;34m(\u001b[0m\u001b[0;34m)\u001b[0m\u001b[0;34m\u001b[0m\u001b[0m\n",
       "\u001b[0;31mDocstring:\u001b[0m <no docstring>\n",
       "\u001b[0;31mFile:\u001b[0m      ~/Documents/UNI/sem_10/Scientific_Programming_Python/lectures_me/Week_3-Python_advanced/notebooks/<ipython-input-576-d3d411456af5>\n",
       "\u001b[0;31mType:\u001b[0m      function\n"
      ]
     },
     "metadata": {},
     "output_type": "display_data"
    },
    {
     "name": "stdout",
     "output_type": "stream",
     "text": [
      "<b><i>hello world</i></b>\n"
     ]
    }
   ],
   "source": [
    "def makebold(fn):\n",
    "    \"\"\"wraps the result of a function such that it's bold\"\"\"\n",
    "    def wrapped():\n",
    "        return \"<b>\" + fn() + \"</b>\"\n",
    "    return wrapped\n",
    "\n",
    "def makeitalic(fn):\n",
    "    \"\"\"wraps the result of a function such that it's italics\"\"\"\n",
    "    def wrapped():\n",
    "        return \"<i>\" + fn() + \"</i>\"\n",
    "    return wrapped\n",
    "\n",
    "@makebold\n",
    "@makeitalic\n",
    "def hello():\n",
    "    \"\"\"prints 'hello world'\"\"\"\n",
    "    return \"hello world\"\n",
    "\n",
    "print(hello())\n",
    "hello?"
   ]
  },
  {
   "cell_type": "markdown",
   "metadata": {},
   "source": [
    "That's it almost it for basic knowledge of decorators!\n",
    "There's just one important thing: If we replace the by the decorated version, we lose all information of the orginal function, as its docstring, information about arguments, etc. To make up for that, we use *another decorator*, namely `functools.wraps`. This simply copies the docstring of the original function to the new one."
   ]
  },
  {
   "cell_type": "code",
   "execution_count": 578,
   "metadata": {
    "collapsed": false
   },
   "outputs": [
    {
     "data": {
      "text/plain": [
       "\u001b[0;31mSignature:\u001b[0m \u001b[0mhello\u001b[0m\u001b[0;34m(\u001b[0m\u001b[0;34m)\u001b[0m\u001b[0;34m\u001b[0m\u001b[0m\n",
       "\u001b[0;31mDocstring:\u001b[0m prints 'hello world'\n",
       "\u001b[0;31mFile:\u001b[0m      ~/Documents/UNI/sem_10/Scientific_Programming_Python/lectures_me/Week_3-Python_advanced/notebooks/<ipython-input-578-f52f19b2227d>\n",
       "\u001b[0;31mType:\u001b[0m      function\n"
      ]
     },
     "metadata": {},
     "output_type": "display_data"
    },
    {
     "name": "stdout",
     "output_type": "stream",
     "text": [
      "<b><i>hello world</i></b>\n"
     ]
    }
   ],
   "source": [
    "import functools\n",
    "\n",
    "def makebold(fn):\n",
    "    @functools.wraps(fn)\n",
    "    def wrapped():\n",
    "        return \"<b>\" + fn() + \"</b>\"\n",
    "    return wrapped\n",
    "\n",
    "def makeitalic(fn):\n",
    "    @functools.wraps(fn)\n",
    "    def wrapped():\n",
    "        return \"<i>\" + fn() + \"</i>\"\n",
    "    return wrapped\n",
    "\n",
    "@makebold\n",
    "@makeitalic\n",
    "def hello():\n",
    "    \"\"\"prints 'hello world'\"\"\"\n",
    "    return \"hello world\"\n",
    "\n",
    "print(hello())\n",
    "\n",
    "hello?"
   ]
  },
  {
   "cell_type": "markdown",
   "metadata": {},
   "source": [
    "#### Another nice use-case for decorators is a timer:"
   ]
  },
  {
   "cell_type": "code",
   "execution_count": 180,
   "metadata": {
    "collapsed": false
   },
   "outputs": [],
   "source": [
    "import time\n",
    "\n",
    "def clock(func):\n",
    "    @functools.wraps(func)\n",
    "    def clocked(*args, **kwargs):\n",
    "        t0 = time.perf_counter()\n",
    "        result = func(*args, **kwargs)\n",
    "        elapsed = time.perf_counter() - t0\n",
    "        name = func.__name__\n",
    "        arg_str = ', '.join(repr(arg) for arg in args)\n",
    "        print('[{:.8f}s] {}({}) -> {}'.format(elapsed, name, arg_str, result))\n",
    "        return result\n",
    "    return clocked"
   ]
  },
  {
   "cell_type": "code",
   "execution_count": 181,
   "metadata": {
    "collapsed": false
   },
   "outputs": [],
   "source": [
    "@clock\n",
    "def substract(x, y):\n",
    "    return x - y\n",
    "\n",
    "@clock\n",
    "def multiply(x, y):\n",
    "    return x * y"
   ]
  },
  {
   "cell_type": "code",
   "execution_count": 182,
   "metadata": {
    "collapsed": false
   },
   "outputs": [
    {
     "name": "stdout",
     "output_type": "stream",
     "text": [
      "[0.00000142s] substract(4, 2) -> 2\n",
      "[0.00001692s] substract(6, 2) -> 4\n",
      "[0.00000060s] substract(8, 2) -> 6\n",
      "[0.00000103s] multipy(4, 4) -> 16\n"
     ]
    },
    {
     "data": {
      "text/plain": [
       "16"
      ]
     },
     "execution_count": 182,
     "metadata": {},
     "output_type": "execute_result"
    }
   ],
   "source": [
    "substract(4, 2)\n",
    "substract(6, 2)\n",
    "substract(8, 2)\n",
    "multiply(4, 4)"
   ]
  },
  {
   "cell_type": "markdown",
   "metadata": {},
   "source": [
    "## Functional Programming in Python\n",
    "One of Pythons many influences is that of functional programming -- an approach that treats computation as the evaluation of mathematical functions and avoids changing-state and mutable data"
   ]
  },
  {
   "cell_type": "markdown",
   "metadata": {},
   "source": [
    "### Lambda-functions\n",
    "\n",
    "Lambda-functions are \"small\", \"throw-away\", anonymous functions."
   ]
  },
  {
   "cell_type": "code",
   "execution_count": 109,
   "metadata": {},
   "outputs": [
    {
     "data": {
      "text/plain": [
       "(64, function)"
      ]
     },
     "execution_count": 109,
     "metadata": {},
     "output_type": "execute_result"
    }
   ],
   "source": [
    "def square_number(x):\n",
    "    return x**2\n",
    "\n",
    "square_number(8), type(square_number)"
   ]
  },
  {
   "cell_type": "code",
   "execution_count": 112,
   "metadata": {},
   "outputs": [
    {
     "data": {
      "text/plain": [
       "(64, function)"
      ]
     },
     "execution_count": 112,
     "metadata": {},
     "output_type": "execute_result"
    }
   ],
   "source": [
    "square_number = lambda x: x**2\n",
    "\n",
    "square_number(8), type(square_number)"
   ]
  },
  {
   "cell_type": "code",
   "execution_count": 116,
   "metadata": {},
   "outputs": [
    {
     "data": {
      "text/plain": [
       "5"
      ]
     },
     "execution_count": 116,
     "metadata": {},
     "output_type": "execute_result"
    }
   ],
   "source": [
    "calc_sum = lambda x,y: x+y\n",
    "calc_sum(2,3)"
   ]
  },
  {
   "cell_type": "markdown",
   "metadata": {},
   "source": [
    "### Map, Filter and Reduce\n",
    "\n",
    "Map, Filter and Reduce are functions that work with functions and lists."
   ]
  },
  {
   "cell_type": "code",
   "execution_count": 122,
   "metadata": {},
   "outputs": [
    {
     "data": {
      "text/plain": [
       "[1, 4, 9, 16, 25]"
      ]
     },
     "execution_count": 122,
     "metadata": {},
     "output_type": "execute_result"
    }
   ],
   "source": [
    "#Map applies a function to all items in a list.\n",
    "\n",
    "items = [1, 2, 3, 4, 5]\n",
    "squared = []\n",
    "for i in items:\n",
    "    squared.append(i**2)\n",
    "\n",
    "#Map simply does the same: \n",
    "squared = list(map(lambda x: x**2, items))\n",
    "\n",
    "squared"
   ]
  },
  {
   "cell_type": "code",
   "execution_count": 119,
   "metadata": {},
   "outputs": [
    {
     "name": "stdout",
     "output_type": "stream",
     "text": [
      "[0, 0]\n",
      "[1, 2]\n",
      "[4, 4]\n",
      "[9, 6]\n",
      "[16, 8]\n"
     ]
    }
   ],
   "source": [
    "def multiply(x):\n",
    "    return (x*x)\n",
    "def add(x):\n",
    "    return (x+x)\n",
    "\n",
    "#we can even have functions as arguments!\n",
    "funcs = [multiply, add]\n",
    "for i in range(5):\n",
    "    value = list(map(lambda x: x(i), funcs))\n",
    "    print(value)"
   ]
  },
  {
   "cell_type": "code",
   "execution_count": 120,
   "metadata": {},
   "outputs": [
    {
     "name": "stdout",
     "output_type": "stream",
     "text": [
      "[-5, -4, -3, -2, -1]\n"
     ]
    }
   ],
   "source": [
    "# Filter creates a list of elements for wich a function returns true\n",
    "number_list = range(-5, 5)\n",
    "less_than_zero = list(filter(lambda x: x < 0, number_list))\n",
    "print(less_than_zero)"
   ]
  },
  {
   "cell_type": "code",
   "execution_count": 132,
   "metadata": {},
   "outputs": [],
   "source": [
    "# Nice examples of reduce: https://www.python-course.eu/lambda.php"
   ]
  },
  {
   "cell_type": "markdown",
   "metadata": {},
   "source": [
    "### Interlude -- some list-operations"
   ]
  },
  {
   "cell_type": "code",
   "execution_count": 568,
   "metadata": {},
   "outputs": [
    {
     "name": "stdout",
     "output_type": "stream",
     "text": [
      "[True, True, True, True, False, True, False]\n",
      "True\n",
      "False\n",
      "\n",
      "True\n"
     ]
    }
   ],
   "source": [
    "# all() and any() check all values of an iterable for *truthyness*: \n",
    "\n",
    "the_list = [1, 2, 4, 5, \"a\", 12, \"x\"]\n",
    "is_int = list(map(lambda x: isinstance(x, (int, float)), the_list))\n",
    "print(is_int)\n",
    "print(any(is_int))\n",
    "print(all(is_int))\n",
    "\n",
    "print()\n",
    "the_list = [1, 2, 4, 5, 6, 12, 25]\n",
    "print(all(map(lambda x: isinstance(x, (int, float)), the_list)))"
   ]
  },
  {
   "cell_type": "code",
   "execution_count": 528,
   "metadata": {},
   "outputs": [
    {
     "name": "stdout",
     "output_type": "stream",
     "text": [
      "[1, 3, 6, 7, 45, 67]\n",
      "[1, 3, 6, 7, 45, 67]\n"
     ]
    }
   ],
   "source": [
    "unsorted_list = [6,1,45,67,3,7]\n",
    "\n",
    "# two ways to sort:\n",
    "new_list = sorted(unsorted_list) # creates a new sorted one, old one stays the same\n",
    "unsorted_list.sort()             # sorts in-place, the old one will change\n",
    "\n",
    "print(new_list)\n",
    "print(unsorted_list)"
   ]
  },
  {
   "cell_type": "code",
   "execution_count": 530,
   "metadata": {},
   "outputs": [
    {
     "data": {
      "text/plain": [
       "[67, 45, 7, 6, 3, 1]"
      ]
     },
     "execution_count": 530,
     "metadata": {},
     "output_type": "execute_result"
    }
   ],
   "source": [
    "# sort descending\n",
    "\n",
    "unsorted_list.sort(reverse=True) \n",
    "unsorted_list"
   ]
  },
  {
   "cell_type": "code",
   "execution_count": 569,
   "metadata": {},
   "outputs": [
    {
     "name": "stdout",
     "output_type": "stream",
     "text": [
      "[{'name': 'berta', 'age': 20}, {'name': 'chris', 'age': 29}, {'name': 'aaron', 'age': 40}]\n",
      "[{'name': 'aaron', 'age': 40}, {'name': 'berta', 'age': 20}, {'name': 'chris', 'age': 29}]\n"
     ]
    }
   ],
   "source": [
    "# sorting according to specific rules can be done with lambda functions\n",
    "people = [\n",
    "    {'name': 'aaron', 'age': 40},\n",
    "    {'name': 'berta', 'age': 20},\n",
    "    {'name': 'chris', 'age': 29},\n",
    "]\n",
    "\n",
    "# this will sort it according to their age\n",
    "people.sort(key=lambda item: item['age'])\n",
    "print(people)\n",
    "\n",
    "# this will sort it according to their name\n",
    "people.sort(key=lambda item: item['name'])\n",
    "print(people)"
   ]
  },
  {
   "cell_type": "code",
   "execution_count": 542,
   "metadata": {},
   "outputs": [
    {
     "data": {
      "text/plain": [
       "{'name': 'aaron', 'age': 40}"
      ]
     },
     "execution_count": 542,
     "metadata": {},
     "output_type": "execute_result"
    }
   ],
   "source": [
    "#other functions work similarly:\n",
    "\n",
    "max(people, key=lambda i: i['age'])"
   ]
  },
  {
   "cell_type": "markdown",
   "metadata": {},
   "source": [
    "## Comprehensions\n",
    "\n",
    "One of the things python is most well-known for is its ability to do complex things in a single line. __List/Tuple/Dict comprehension__ allows to do merge operations on elements of iterables into a single line"
   ]
  },
  {
   "cell_type": "markdown",
   "metadata": {},
   "source": [
    "#### List comprehension"
   ]
  },
  {
   "cell_type": "code",
   "execution_count": 142,
   "metadata": {},
   "outputs": [
    {
     "data": {
      "text/plain": [
       "[1, 4, 9, 16, 25]"
      ]
     },
     "execution_count": 142,
     "metadata": {},
     "output_type": "execute_result"
    }
   ],
   "source": [
    "original_numbers = [1,2,3,4,5]\n",
    "squared_numbers = []\n",
    "for i in original_numbers:\n",
    "    squared_numbers.append(i**2)\n",
    "    \n",
    "squared_numbers"
   ]
  },
  {
   "cell_type": "code",
   "execution_count": 159,
   "metadata": {},
   "outputs": [
    {
     "data": {
      "text/plain": [
       "[1, 4, 9, 16, 25]"
      ]
     },
     "execution_count": 159,
     "metadata": {},
     "output_type": "execute_result"
    }
   ],
   "source": [
    "squared_numbers = [\n",
    "                   i**2 \n",
    "                   for i in original_numbers\n",
    "                  ]\n",
    "squared_numbers"
   ]
  },
  {
   "cell_type": "code",
   "execution_count": 144,
   "metadata": {},
   "outputs": [
    {
     "data": {
      "text/plain": [
       "[1, 4, 7]"
      ]
     },
     "execution_count": 144,
     "metadata": {},
     "output_type": "execute_result"
    }
   ],
   "source": [
    "original_values = [(1, True), (2, False), (3, False), (4, True), (5, False), (7, True)]\n",
    "only_trues = []\n",
    "for i in original_values:\n",
    "    if i[1]:\n",
    "        only_trues.append(i[0])\n",
    "\n",
    "only_trues"
   ]
  },
  {
   "cell_type": "code",
   "execution_count": 158,
   "metadata": {},
   "outputs": [
    {
     "data": {
      "text/plain": [
       "[1, 4, 7]"
      ]
     },
     "execution_count": 158,
     "metadata": {},
     "output_type": "execute_result"
    }
   ],
   "source": [
    "only_trues = [\n",
    "              i[0]                      # what to do with the values from the old list\n",
    "              for i in original_values  # for-loop like syntax\n",
    "              if i[1]                   # filtering. \n",
    "             ]\n",
    "only_trues"
   ]
  },
  {
   "cell_type": "markdown",
   "metadata": {},
   "source": [
    "#### General Comprehension"
   ]
  },
  {
   "cell_type": "code",
   "execution_count": 153,
   "metadata": {},
   "outputs": [
    {
     "name": "stdout",
     "output_type": "stream",
     "text": [
      "<generator object <genexpr> at 0x7ff234db9620>\n",
      "1\n",
      "[2, 3, 4, 5, 6, 7, 8, 9]\n"
     ]
    }
   ],
   "source": [
    "a = (i for i in range(10))\n",
    "print(a) # it's a generator!\n",
    "next(a)\n",
    "print(next(a))\n",
    "print(list(a))"
   ]
  },
  {
   "cell_type": "markdown",
   "metadata": {},
   "source": [
    "Generators are generalized iterators... And iterators can be converted into dicts, lists, tuples, sets, ...!"
   ]
  },
  {
   "cell_type": "code",
   "execution_count": 571,
   "metadata": {},
   "outputs": [
    {
     "name": "stdout",
     "output_type": "stream",
     "text": [
      "{'aaron': 40, 'peter': 30}\n"
     ]
    }
   ],
   "source": [
    "# removing a key from a dictionary\n",
    "my_dict = {\"chris\": 29, \"aaron\": 40, \"peter\": 30}\n",
    "my_dict = {i:my_dict[i] for i in my_dict if i!='chris'}\n",
    "print(my_dict)"
   ]
  },
  {
   "cell_type": "code",
   "execution_count": 160,
   "metadata": {},
   "outputs": [
    {
     "data": {
      "text/plain": [
       "{'a': 17, 'b': 34, 'z': 3}"
      ]
     },
     "execution_count": 160,
     "metadata": {},
     "output_type": "execute_result"
    }
   ],
   "source": [
    "mcase = {'a': 10, 'b': 34, 'A': 7, 'Z': 3}\n",
    "\n",
    "mcase_frequency = {\n",
    "                   k.lower(): mcase.get(k.lower(), 0) + mcase.get(k.upper(), 0)\n",
    "                   for k in mcase.keys()\n",
    "                  }\n",
    "\n",
    "mcase_frequency"
   ]
  },
  {
   "cell_type": "code",
   "execution_count": 179,
   "metadata": {},
   "outputs": [
    {
     "ename": "AssertionError",
     "evalue": "platypus is no int or float!",
     "output_type": "error",
     "traceback": [
      "\u001b[0;31m---------------------------------------------------------------------------\u001b[0m",
      "\u001b[0;31mAssertionError\u001b[0m                            Traceback (most recent call last)",
      "\u001b[0;32m<ipython-input-179-38ade1dc5610>\u001b[0m in \u001b[0;36m<module>\u001b[0;34m()\u001b[0m\n\u001b[1;32m      6\u001b[0m \u001b[0;32mfor\u001b[0m \u001b[0mrow\u001b[0m \u001b[0;32min\u001b[0m \u001b[0myour_data\u001b[0m\u001b[0;34m:\u001b[0m\u001b[0;34m\u001b[0m\u001b[0m\n\u001b[1;32m      7\u001b[0m     \u001b[0;32mfor\u001b[0m \u001b[0mcell\u001b[0m \u001b[0;32min\u001b[0m \u001b[0mrow\u001b[0m\u001b[0;34m:\u001b[0m\u001b[0;34m\u001b[0m\u001b[0m\n\u001b[0;32m----> 8\u001b[0;31m         \u001b[0;32massert\u001b[0m \u001b[0misinstance\u001b[0m\u001b[0;34m(\u001b[0m\u001b[0mcell\u001b[0m\u001b[0;34m,\u001b[0m \u001b[0;34m(\u001b[0m\u001b[0mint\u001b[0m\u001b[0;34m,\u001b[0m \u001b[0mfloat\u001b[0m\u001b[0;34m)\u001b[0m\u001b[0;34m)\u001b[0m\u001b[0;34m,\u001b[0m \u001b[0mstr\u001b[0m\u001b[0;34m(\u001b[0m\u001b[0mcell\u001b[0m\u001b[0;34m)\u001b[0m\u001b[0;34m+\u001b[0m\u001b[0;34m\" is no int or float!\"\u001b[0m\u001b[0;34m\u001b[0m\u001b[0m\n\u001b[0m\u001b[1;32m      9\u001b[0m \u001b[0;34m\u001b[0m\u001b[0m\n\u001b[1;32m     10\u001b[0m \u001b[0;32massert\u001b[0m \u001b[0mall\u001b[0m\u001b[0;34m(\u001b[0m\u001b[0misinstance\u001b[0m\u001b[0;34m(\u001b[0m\u001b[0mcell\u001b[0m\u001b[0;34m,\u001b[0m \u001b[0;34m(\u001b[0m\u001b[0mint\u001b[0m\u001b[0;34m,\u001b[0m \u001b[0mfloat\u001b[0m\u001b[0;34m)\u001b[0m\u001b[0;34m)\u001b[0m \u001b[0;32mfor\u001b[0m \u001b[0mcell\u001b[0m \u001b[0;32min\u001b[0m \u001b[0mrow\u001b[0m \u001b[0;32mfor\u001b[0m \u001b[0mrow\u001b[0m \u001b[0;32min\u001b[0m \u001b[0myour_data\u001b[0m\u001b[0;34m)\u001b[0m\u001b[0;34m\u001b[0m\u001b[0m\n",
      "\u001b[0;31mAssertionError\u001b[0m: platypus is no int or float!"
     ]
    }
   ],
   "source": [
    "your_data = [[1, 2, 3], \n",
    "             [1, 2, 'platypus'], \n",
    "             [1, 2, 3]]\n",
    "\n",
    "\n",
    "for row in your_data:\n",
    "    for cell in row:\n",
    "        assert isinstance(cell, (int, float)), str(cell)+\" is no int or float!\""
   ]
  },
  {
   "cell_type": "code",
   "execution_count": 180,
   "metadata": {},
   "outputs": [
    {
     "ename": "AssertionError",
     "evalue": "platypus is no int or float!",
     "output_type": "error",
     "traceback": [
      "\u001b[0;31m---------------------------------------------------------------------------\u001b[0m",
      "\u001b[0;31mAssertionError\u001b[0m                            Traceback (most recent call last)",
      "\u001b[0;32m<ipython-input-180-574941336848>\u001b[0m in \u001b[0;36m<module>\u001b[0;34m()\u001b[0m\n\u001b[0;32m----> 1\u001b[0;31m \u001b[0;32massert\u001b[0m \u001b[0mall\u001b[0m\u001b[0;34m(\u001b[0m\u001b[0misinstance\u001b[0m\u001b[0;34m(\u001b[0m\u001b[0mcell\u001b[0m\u001b[0;34m,\u001b[0m \u001b[0;34m(\u001b[0m\u001b[0mint\u001b[0m\u001b[0;34m,\u001b[0m \u001b[0mfloat\u001b[0m\u001b[0;34m)\u001b[0m\u001b[0;34m)\u001b[0m \u001b[0;32mfor\u001b[0m \u001b[0mcell\u001b[0m \u001b[0;32min\u001b[0m \u001b[0mrow\u001b[0m \u001b[0;32mfor\u001b[0m \u001b[0mrow\u001b[0m \u001b[0;32min\u001b[0m \u001b[0myour_data\u001b[0m\u001b[0;34m)\u001b[0m\u001b[0;34m,\u001b[0m \u001b[0mstr\u001b[0m\u001b[0;34m(\u001b[0m\u001b[0mcell\u001b[0m\u001b[0;34m)\u001b[0m\u001b[0;34m+\u001b[0m\u001b[0;34m\" is no int or float!\"\u001b[0m\u001b[0;34m\u001b[0m\u001b[0m\n\u001b[0m",
      "\u001b[0;31mAssertionError\u001b[0m: platypus is no int or float!"
     ]
    }
   ],
   "source": [
    "assert all(isinstance(cell, (int, float)) for cell in row for row in your_data), str(cell)+\" is no int or float!\""
   ]
  },
  {
   "cell_type": "code",
   "execution_count": 183,
   "metadata": {},
   "outputs": [
    {
     "data": {
      "text/plain": [
       "(1, 9, 25, 49, 81)"
      ]
     },
     "execution_count": 183,
     "metadata": {},
     "output_type": "execute_result"
    }
   ],
   "source": [
    "l = list(range(10))\n",
    "{i**2 for i in l if i % 2 == 1}      # set\n",
    "tuple(i**2 for i in l if i % 2 == 1) # tuple"
   ]
  },
  {
   "cell_type": "code",
   "execution_count": 567,
   "metadata": {},
   "outputs": [
    {
     "name": "stdout",
     "output_type": "stream",
     "text": [
      "[0, 0]\n",
      "[2, 1]\n",
      "[4, 4]\n",
      "[6, 9]\n",
      "[8, 16]\n"
     ]
    }
   ],
   "source": [
    "# damn, python can have really dirty one-liners...\n",
    "print(\"\\n\".join([str(list(map(lambda x: x(i), [lambda x:x+x, lambda x:x*x]))) for i in range(5)]))"
   ]
  },
  {
   "cell_type": "markdown",
   "metadata": {},
   "source": [
    "## Strings and format-strings"
   ]
  },
  {
   "cell_type": "markdown",
   "metadata": {},
   "source": [
    "### some string-operations"
   ]
  },
  {
   "cell_type": "code",
   "execution_count": 546,
   "metadata": {},
   "outputs": [
    {
     "name": "stdout",
     "output_type": "stream",
     "text": [
      "['test', 'hello', 'world'] <class 'list'>\n"
     ]
    },
    {
     "data": {
      "text/plain": [
       "'test, hello, world'"
      ]
     },
     "execution_count": 546,
     "metadata": {},
     "output_type": "execute_result"
    }
   ],
   "source": [
    "# remove whitespaces at beginning and end\n",
    "s = \"   hello    \"\n",
    "new_s = s.strip()\n",
    "\n",
    "# split string in multiple parts (gives a list)\n",
    "s = \"test, hello, world\"\n",
    "splitted = s.split(', ')\n",
    "print(splitted, type(splitted))\n",
    "\n",
    "# create a string again by joining a list of partial strings\n",
    "', '.join(splitted) # -> \"test, hello, world\""
   ]
  },
  {
   "cell_type": "markdown",
   "metadata": {},
   "source": [
    "### Format-strings: version 1\n",
    "\n",
    "Standard format-strings are C-style. The `%`-operator formats a set of varaibles in a tuple together with a special format-strings:"
   ]
  },
  {
   "cell_type": "code",
   "execution_count": 548,
   "metadata": {},
   "outputs": [
    {
     "name": "stdout",
     "output_type": "stream",
     "text": [
      "An int: 15, a rounded float: 3.14, a string: string!\n"
     ]
    }
   ],
   "source": [
    "import math\n",
    "\n",
    "an_int = 15\n",
    "a_float = math.pi #3.141592653589793\n",
    "a_string = \"string!\"\n",
    "\n",
    "string = \"An int: %d, a rounded float: %.2f, a string: %s\" % (an_int, a_float, a_string)\n",
    "print(string)"
   ]
  },
  {
   "cell_type": "raw",
   "metadata": {},
   "source": [
    "%s - String (or any object with a string representation, like numbers)\n",
    "%d - Integers\n",
    "%f - Floating pboint numbers\n",
    "%.<number of digits>f - Floating point numbers with a fixed amount of digits to the right of the dot.\n",
    "%x/%X - Integers in hex representation (lowercase/uppercase)"
   ]
  },
  {
   "cell_type": "markdown",
   "metadata": {},
   "source": [
    "## Format-strings: version 2\n",
    "\n",
    "Python's native format()-method is far more powerful than the borrowed c-syntax. For a complete list of it's arguments, look at https://docs.python.org/3.4/library/string.html#formatspec. For a nice small overview, have a look at https://wiki.python.org/moin/FormatReference"
   ]
  },
  {
   "cell_type": "code",
   "execution_count": 556,
   "metadata": {},
   "outputs": [
    {
     "name": "stdout",
     "output_type": "stream",
     "text": [
      "aaron is 40 years old!\n",
      "berta is 20 years old!\n",
      "chris is 21 years old!\n"
     ]
    }
   ],
   "source": [
    "people = [\n",
    "    {'name': 'aaron', 'age': 40},\n",
    "    {'name': 'berta', 'age': 20},\n",
    "    {'name': 'chris', 'age': 21},\n",
    "]\n",
    "\n",
    "# the {} are placeholders and are filled with the arguments of format()\n",
    "for person in people:\n",
    "    print(\"{} is {} years old!\".format(person['name'], person['age']))"
   ]
  },
  {
   "cell_type": "code",
   "execution_count": 554,
   "metadata": {},
   "outputs": [
    {
     "name": "stdout",
     "output_type": "stream",
     "text": [
      "aaron is 40 years old!\n",
      "berta is 20 years old!\n",
      "chris is 21 years old!\n"
     ]
    }
   ],
   "source": [
    "# the {} placeholders can be given names to make order irrelevant\n",
    "\n",
    "for person in people:\n",
    "    print(\"{name} is {age} years old!\".format(\n",
    "        age=person['age'],\n",
    "        name=person['name']))"
   ]
  },
  {
   "cell_type": "code",
   "execution_count": 557,
   "metadata": {},
   "outputs": [
    {
     "name": "stdout",
     "output_type": "stream",
     "text": [
      "aaron is 40 years old!\n",
      "berta is 20 years old!\n",
      "chris is 21 years old!\n"
     ]
    }
   ],
   "source": [
    "# names allow for neat dict-unpacking into the format() function\n",
    "\n",
    "for person in people:\n",
    "    print(\"{name} is {age} years old!\".format(**person))"
   ]
  },
  {
   "cell_type": "code",
   "execution_count": 559,
   "metadata": {},
   "outputs": [
    {
     "name": "stdout",
     "output_type": "stream",
     "text": [
      "      1.00\n",
      "     10.00\n",
      "    100.00\n",
      "   1000.00\n",
      "  10000.00\n"
     ]
    }
   ],
   "source": [
    "# format() allows for many many formatting options, such as justification and\n",
    "# conversion to decimal places etc...\n",
    "nums = [10**i for i in range(5)] # -> [1, 10, 100, 1000, 10000]\n",
    "\n",
    "for n in nums:\n",
    "    # >     right justified\n",
    "    # 10    10 characters long\n",
    "    # .2    show 2 decimal places\n",
    "    # f     display as floating point number\n",
    "    print(\"{:>10.2f}\".format(n))"
   ]
  },
  {
   "cell_type": "markdown",
   "metadata": {},
   "source": [
    "## Format-strings: version 3\n",
    "\n",
    "Since Python 3.6, there is nice super-easy way to produce formatted string literals!"
   ]
  },
  {
   "cell_type": "code",
   "execution_count": 562,
   "metadata": {},
   "outputs": [
    {
     "data": {
      "text/plain": [
       "'He said his name is Fred.'"
      ]
     },
     "execution_count": 562,
     "metadata": {},
     "output_type": "execute_result"
    }
   ],
   "source": [
    "name = \"Fred\"\n",
    "string = f\"He said his name is {name}.\"\n",
    "string"
   ]
  },
  {
   "cell_type": "code",
   "execution_count": 565,
   "metadata": {},
   "outputs": [
    {
     "data": {
      "text/plain": [
       "'result:      12.35'"
      ]
     },
     "execution_count": 565,
     "metadata": {},
     "output_type": "execute_result"
    }
   ],
   "source": [
    "width = 10\n",
    "precision = 4\n",
    "value = 12.34567\n",
    "f\"result: {value:{width}.{precision}}\" "
   ]
  }
 ],
 "metadata": {
  "kernelspec": {
   "display_name": "Python 3",
   "language": "python",
   "name": "python3"
  },
  "language_info": {
   "codemirror_mode": {
    "name": "ipython",
    "version": 3
   },
   "file_extension": ".py",
   "mimetype": "text/x-python",
   "name": "python",
   "nbconvert_exporter": "python",
   "pygments_lexer": "ipython3",
   "version": "3.6.5rc1"
  }
 },
 "nbformat": 4,
 "nbformat_minor": 2
}
