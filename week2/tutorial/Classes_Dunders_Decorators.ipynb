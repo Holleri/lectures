{
 "cells": [
  {
   "cell_type": "markdown",
   "metadata": {},
   "source": [
    "# Classes, Dunder-Methods and Decorators"
   ]
  },
  {
   "cell_type": "markdown",
   "metadata": {},
   "source": [
    "Object-Oriented programming mainly revolves about **classes** (blueprints), and **instances**/objects of such a class. Imagine a class **Human**, instances of which are you and me.\n",
    "\n",
    "A class has **methods** and **attributes**. A method is basically a function under the namespace of the class, and an attribute is a variable under that namespace.\n",
    "\n",
    "Methods and attributes can be bound either to the class itself (class-methods or **static methods**, or to instances of a class. Every human in this example has an attribute *name*, which in my case has the *value* `Chris`. As this value is different for every instance of the class, the attribute *name* would be an instance-attribute."
   ]
  },
  {
   "cell_type": "markdown",
   "metadata": {},
   "source": [
    "## Objects in Python\n",
    "As the biggest influence to Python is that of object-oriented programming, much of Python revolves around objects. As mentioned, everything in Python is an object. You can create a new **instance** (-> object) of a **class** by using its *constructor*. To do so, no keyword such as *new* is necessary in Python."
   ]
  },
  {
   "cell_type": "code",
   "execution_count": 1,
   "metadata": {
    "scrolled": true
   },
   "outputs": [
    {
     "data": {
      "text/plain": [
       "set"
      ]
     },
     "execution_count": 1,
     "metadata": {},
     "output_type": "execute_result"
    }
   ],
   "source": [
    "a = set() #the constructor of set is called, and instance of type set is created an assigned to the name (variable) a\n",
    "type(a)   #a now is an instance of type set"
   ]
  },
  {
   "cell_type": "code",
   "execution_count": 13,
   "metadata": {
    "scrolled": false
   },
   "outputs": [],
   "source": [
    "a = \"hello\" #the constructor of strings is not as explicit as the one for sets, \n",
    "            #however this still creates an instance of type string and and assignes it to the name a."
   ]
  },
  {
   "cell_type": "markdown",
   "metadata": {},
   "source": [
    "## Creating your own class\n",
    "Let's imagine we want to create a class **Triple**. Objects of type triple contain three numbers, and Triples can be added, printed and compared."
   ]
  },
  {
   "cell_type": "code",
   "execution_count": 15,
   "metadata": {},
   "outputs": [],
   "source": [
    "class Triple:\n",
    "    pass #pass means nothing, its just necessary because python wants some indented line here"
   ]
  },
  {
   "cell_type": "code",
   "execution_count": 18,
   "metadata": {},
   "outputs": [
    {
     "data": {
      "text/plain": [
       "__main__.Triple"
      ]
     },
     "execution_count": 18,
     "metadata": {},
     "output_type": "execute_result"
    }
   ],
   "source": [
    "b = Triple() #we now create an instance of type triple and assign it to b\n",
    "type(b)      #b's type is Triple. "
   ]
  },
  {
   "cell_type": "markdown",
   "metadata": {},
   "source": [
    "Note that for the type it says its `__main__.Triple`. The first one is the **namespace**. You have to read it basically as \"This is an instance of type *Triple*, which exists in the namespace `__main__`."
   ]
  },
  {
   "cell_type": "markdown",
   "metadata": {},
   "source": [
    "When creating a new instance, the **constructor** of that class is called. The constructor is a special method, which actually creates the instance and does whatever needs to be done upon creation. \n",
    "For the ones that learned programming with Java: In Java, the constructor is a special *method* of any class whose name is equal to the name of the class"
   ]
  },
  {
   "cell_type": "markdown",
   "metadata": {},
   "source": [
    "In Python, the constructor-method is called `__init__(self)`. \n",
    "Whenever you create a new instance of your object, you call this init-method."
   ]
  },
  {
   "cell_type": "code",
   "execution_count": 19,
   "metadata": {},
   "outputs": [
    {
     "name": "stdout",
     "output_type": "stream",
     "text": [
      "A new triple is created!\n"
     ]
    }
   ],
   "source": [
    "class Triple:\n",
    "    def __init__(self):\n",
    "        print(\"A new triple is created!\")\n",
    "\n",
    "b = Triple()"
   ]
  },
  {
   "cell_type": "markdown",
   "metadata": {},
   "source": [
    "In our triple-class, it makes sense to pass three numbers, that upon creation will be stored inside instances of your class."
   ]
  },
  {
   "cell_type": "code",
   "execution_count": 23,
   "metadata": {},
   "outputs": [],
   "source": [
    "class Triple:\n",
    "    def __init__(self, num1, num2, num3):\n",
    "        self.nums = num1, num2, num3\n",
    "\n",
    "b = Triple(1, 2, 3)"
   ]
  },
  {
   "cell_type": "markdown",
   "metadata": {},
   "source": [
    "Our constructor takes as first argument something called `self`, and inside the constructor, it assignes values to `self.nums`. What does that mean?\n",
    " \n",
    "## Class-methods and Instance-methods, Class-attributes and Instance-attributes\n",
    "\n",
    "In short, `self` is a reference to the instance we're calling the method from. All methods that have a first parameter called `self` are thus instance-methods. (Note however, that it's pure convention to call this parameter like that).\n",
    "\n",
    "We can can define any method we want, and if it has such a parameter, it will be the reference of the instance. Further, we can *dereference* from this self to create instance-attributes. All variables that start with `self.` are bound to a certain instance of an object, while all others are bound to the class itself."
   ]
  },
  {
   "cell_type": "code",
   "execution_count": 29,
   "metadata": {},
   "outputs": [
    {
     "name": "stdout",
     "output_type": "stream",
     "text": [
      "The triple is: (1, 2, 3)\n"
     ]
    }
   ],
   "source": [
    "class Triple:\n",
    "    def __init__(self, num1, num2, num3):\n",
    "        self.nums = num1, num2, num3\n",
    "        \n",
    "    def print_with_message(self, message):\n",
    "        print(message+str(self.nums))\n",
    "        \n",
    "b = Triple(1,2,3)\n",
    "b.print_with_message(\"The triple is: \")"
   ]
  },
  {
   "cell_type": "markdown",
   "metadata": {},
   "source": [
    "There is however something we notice: When looking at the number of arguments, the method itself seems to expect 2 parameters, while it's called with only one! How can that be?\n",
    "\n",
    "This is because the first argument is the very instance we're calling this method from!\n",
    "\n",
    "When calling `b.print_with_message(message)`, it is equivalent to calling `[Class of b].print_with_message(b, message)`. \n",
    "\n",
    "This makes it more explicit that **the first argument is a reference to the instance you're calling the method from**."
   ]
  },
  {
   "cell_type": "code",
   "execution_count": 30,
   "metadata": {},
   "outputs": [
    {
     "name": "stdout",
     "output_type": "stream",
     "text": [
      "Again, it is:(1, 2, 3)\n"
     ]
    }
   ],
   "source": [
    "Triple.print_with_message(b, \"Again, it is:\")"
   ]
  },
  {
   "cell_type": "code",
   "execution_count": null,
   "metadata": {
    "scrolled": true
   },
   "outputs": [],
   "source": [
    "\n",
    "\n",
    "\n",
    "\n",
    "\n",
    "\n",
    "\n",
    "\n",
    "\n",
    "\n"
   ]
  },
  {
   "cell_type": "markdown",
   "metadata": {},
   "source": [
    "Let's try to see if some behaviour for our Triple-class works! What about adding two values?"
   ]
  },
  {
   "cell_type": "code",
   "execution_count": 34,
   "metadata": {},
   "outputs": [
    {
     "ename": "TypeError",
     "evalue": "unsupported operand type(s) for +: 'Triple' and 'Triple'",
     "output_type": "error",
     "traceback": [
      "\u001b[0;31m---------------------------------------------------------------------------\u001b[0m",
      "\u001b[0;31mTypeError\u001b[0m                                 Traceback (most recent call last)",
      "\u001b[0;32m<ipython-input-34-415c72d244de>\u001b[0m in \u001b[0;36m<module>\u001b[0;34m()\u001b[0m\n\u001b[1;32m      2\u001b[0m \u001b[0mb\u001b[0m \u001b[0;34m=\u001b[0m \u001b[0mTriple\u001b[0m\u001b[0;34m(\u001b[0m\u001b[0;36m2\u001b[0m\u001b[0;34m,\u001b[0m\u001b[0;36m3\u001b[0m\u001b[0;34m,\u001b[0m\u001b[0;36m4\u001b[0m\u001b[0;34m)\u001b[0m\u001b[0;34m\u001b[0m\u001b[0m\n\u001b[1;32m      3\u001b[0m \u001b[0;34m\u001b[0m\u001b[0m\n\u001b[0;32m----> 4\u001b[0;31m \u001b[0ma\u001b[0m\u001b[0;34m+\u001b[0m\u001b[0mb\u001b[0m\u001b[0;34m\u001b[0m\u001b[0m\n\u001b[0m",
      "\u001b[0;31mTypeError\u001b[0m: unsupported operand type(s) for +: 'Triple' and 'Triple'"
     ]
    }
   ],
   "source": [
    "a = Triple(1,2,3)\n",
    "b = Triple(2,3,4)\n",
    "\n",
    "a+b"
   ]
  },
  {
   "cell_type": "markdown",
   "metadata": {},
   "source": [
    "Huh, why does this not work?"
   ]
  },
  {
   "cell_type": "markdown",
   "metadata": {},
   "source": [
    "## The Python data model"
   ]
  },
  {
   "cell_type": "code",
   "execution_count": 14,
   "metadata": {},
   "outputs": [
    {
     "data": {
      "text/plain": [
       "'hello bye'"
      ]
     },
     "execution_count": 14,
     "metadata": {},
     "output_type": "execute_result"
    }
   ],
   "source": [
    "a = \"hello\" #the constructor of strings is not as explicit as the one for sets, \n",
    "            #however this still creates an instance of type string and and assignes it to the name a.\n",
    "\n",
    "b = \" bye\"\n",
    "\n",
    "#as mentioned in the lecture, it is possible to concatenate strings with the \"+\"-operator:\n",
    "\n",
    "c = a + b\n",
    "c"
   ]
  },
  {
   "cell_type": "markdown",
   "metadata": {},
   "source": [
    "Python offers a consistent way to make objects respond to operators like `+` and standard functions like `len`.   \n",
    "\n",
    "We already saw in the lecture, that even the inbuilts have many methods inside double underscores (\\__doc\\__, \\__add\\__, \\__eq\\__, \\__iter\\__, ...). These are called *dunder methods* (double-underscore), or *magic methods*. Magic methods are not supposed to be called directly, but are instead the basis for all functions and methods that work on the respective classes."
   ]
  },
  {
   "cell_type": "markdown",
   "metadata": {},
   "source": [
    "In the above line `c = a + b`, the \"+\"-operator stands between two instances of type string. To understand dunder-methods, you have to imagine Python replacing the expression `something = string1 + string2` by `something = string1.__add__(string2)`.  \n",
    "In other words, the notation `string1 + string2` is just a nice way of writing `string1.__add__(string2)`. In programmer's terms, the fact that the first one can be used instead of the second is called *syntactic sugar* (it doesn't add any feature to the programming language, it is just a handy way of doing things)."
   ]
  },
  {
   "cell_type": "markdown",
   "metadata": {},
   "source": [
    "The \"+\"-operator thus only works for classes, that have such a *dunder-method* `__add__(other)`. When evaluating the expression, python checks if the type of the object before the operator has such a method, and if it does, it uses this function.  \n",
    "\n",
    "The same is the case for many other operators, take for example the minus: the \"-\"-operator is defined for integers, but not for strings. \n",
    "\n",
    "In the lecture, we learned that one can show which methods a class (or an instance of a class) has, by using the function `dir`. This means, that the int-class probably has a magic method for the minus-operator (it's called `__sub__`), whereas the string-class does not."
   ]
  },
  {
   "cell_type": "code",
   "execution_count": 7,
   "metadata": {},
   "outputs": [
    {
     "name": "stdout",
     "output_type": "stream",
     "text": [
      "True\n"
     ]
    },
    {
     "data": {
      "text/plain": [
       "0"
      ]
     },
     "execution_count": 7,
     "metadata": {},
     "output_type": "execute_result"
    }
   ],
   "source": [
    "print(\"__sub__\" in dir(int)) #yes, the method is there \n",
    "1 - 1 #yes, this is possible"
   ]
  },
  {
   "cell_type": "code",
   "execution_count": 11,
   "metadata": {},
   "outputs": [
    {
     "name": "stdout",
     "output_type": "stream",
     "text": [
      "False\n"
     ]
    },
    {
     "ename": "TypeError",
     "evalue": "unsupported operand type(s) for -: 'str' and 'str'",
     "output_type": "error",
     "traceback": [
      "\u001b[0;31m---------------------------------------------------------------------------\u001b[0m",
      "\u001b[0;31mTypeError\u001b[0m                                 Traceback (most recent call last)",
      "\u001b[0;32m<ipython-input-11-00ee1487f73a>\u001b[0m in \u001b[0;36m<module>\u001b[0;34m()\u001b[0m\n\u001b[1;32m      1\u001b[0m \u001b[0mprint\u001b[0m\u001b[0;34m(\u001b[0m\u001b[0;34m\"__sub__\"\u001b[0m \u001b[0;32min\u001b[0m \u001b[0mdir\u001b[0m\u001b[0;34m(\u001b[0m\u001b[0mstr\u001b[0m\u001b[0;34m)\u001b[0m\u001b[0;34m)\u001b[0m \u001b[0;31m#its not there\u001b[0m\u001b[0;34m\u001b[0m\u001b[0m\n\u001b[0;32m----> 2\u001b[0;31m \u001b[0;34m\"hallo\"\u001b[0m \u001b[0;34m-\u001b[0m \u001b[0;34m\"lo\"\u001b[0m \u001b[0;31m#this is not possible\u001b[0m\u001b[0;34m\u001b[0m\u001b[0m\n\u001b[0m",
      "\u001b[0;31mTypeError\u001b[0m: unsupported operand type(s) for -: 'str' and 'str'"
     ]
    }
   ],
   "source": [
    "print(\"__sub__\" in dir(str)) #its not there\n",
    "\"hallo\" - \"lo\" #this is not possible"
   ]
  },
  {
   "cell_type": "markdown",
   "metadata": {},
   "source": [
    "The expression ```3 - 3``` is *syntactic sugar* for calling the \\__sub\\__-method of the int-type. Under the hood, python replaces that to a call of ```3.__sub__(3)```.  Much of python syntax is nothing but syntactic sugar for underlying dunder-methods"
   ]
  },
  {
   "cell_type": "code",
   "execution_count": null,
   "metadata": {},
   "outputs": [],
   "source": [
    "\n",
    "\n",
    "\n",
    "\n",
    "\n",
    "\n"
   ]
  },
  {
   "cell_type": "markdown",
   "metadata": {},
   "source": [
    "If we now combine our knowledge from above with this, the expression `3.__sub__(3)` is actually syntactic sugar for `[class of 3].__sub__(3,3)`. As we know, the class of 3 is `int`.\n",
    "\n",
    "So, to summarize, we now have an easy way of expressing a complicated method-call:"
   ]
  },
  {
   "cell_type": "code",
   "execution_count": 33,
   "metadata": {},
   "outputs": [
    {
     "name": "stdout",
     "output_type": "stream",
     "text": [
      "6\n",
      "6\n"
     ]
    }
   ],
   "source": [
    "print(3 + 3)\n",
    "print(int.__add__(3, 3))"
   ]
  },
  {
   "cell_type": "markdown",
   "metadata": {},
   "source": [
    "Let's use that for our Triple class!  \n",
    "\n",
    "Note that the add-method must return a new triple -- after all, when you're calculating a `a + b`, you get a new result, and you're changing neither `a` nor `b`. So, imagine the class int has an add-method like this:  \n",
    "```def __add__(self, other):\n",
    "        return self+other```.\n",
    "        \n",
    "Of course, our Triple-class is not supposed to return an int, but an object of type triple. For that, we call our constructor inside that method."
   ]
  },
  {
   "cell_type": "code",
   "execution_count": 39,
   "metadata": {},
   "outputs": [
    {
     "name": "stdout",
     "output_type": "stream",
     "text": [
      "<__main__.Triple object at 0x7f0a10139f28>\n",
      "<__main__.Triple object at 0x7f0a10139f98>\n",
      "<__main__.Triple object at 0x7f0a10139f28>\n"
     ]
    }
   ],
   "source": [
    "class Triple:\n",
    "    def __init__(self, num1, num2, num3):\n",
    "        self.nums = num1, num2, num3\n",
    "    \n",
    "    def __add__(self, other):\n",
    "        return Triple(self.nums[0] + other.nums[0], self.nums[1] + other.nums[1], self.nums[2] + other.nums[2])\n",
    "        \n",
    "a = Triple(1,2,3)\n",
    "b = Triple(2,3,4)\n",
    "\n",
    "#these three are all the same! The first one is the fast way to write it, which \n",
    "#internally maps to the second, which internally maps to the third!\n",
    "print(a+b)\n",
    "print(a.__add__(b))\n",
    "print(Triple.__add__(a, b))"
   ]
  },
  {
   "cell_type": "markdown",
   "metadata": {},
   "source": [
    "While this works, we don't now yet if it returns something useful, because the result of the `print` function is not too informative.  \n",
    "\n",
    "How can we make the result of our print-function more informative?"
   ]
  },
  {
   "cell_type": "markdown",
   "metadata": {},
   "source": [
    "### Print and str\n",
    "\n",
    "The print-function can take an object of any class, and most of the time prints something useful. How can that be?\n",
    "\n",
    "The answer is simple: Internally, the print-function calls the `str`-function on its arguments, which creates a string from whatever object you had before.  \n",
    "\n",
    "In other words: \n",
    "**print(something) ^= print(str(something))**"
   ]
  },
  {
   "cell_type": "markdown",
   "metadata": {},
   "source": [
    "So how does the `str`-function work....?\n",
    "\n",
    "Well, the answer is simple! This is also a magic method!! The str-function is actually a method, namely the **dunder-method str**!\n",
    "\n",
    "In other words, when you call \n",
    "`str(something)`, you actually call `something.__str__()`! \n",
    "And as we know, this is simply equal to `[class of something].__str__(something)`!\n",
    "\n",
    "So let's implement the str-function for our Triple-class:"
   ]
  },
  {
   "cell_type": "code",
   "execution_count": 44,
   "metadata": {},
   "outputs": [
    {
     "name": "stdout",
     "output_type": "stream",
     "text": [
      "Triple(3, 5, 7)\n"
     ]
    }
   ],
   "source": [
    "class Triple:\n",
    "    def __init__(self, num1, num2, num3):\n",
    "        self.nums = num1, num2, num3\n",
    "    \n",
    "    def __add__(self, other):\n",
    "        return Triple(self.nums[0] + other.nums[0], self.nums[1] + other.nums[1], self.nums[2] + other.nums[2])\n",
    "        \n",
    "    def __str__(self):\n",
    "        return \"Triple\"+str(self.nums) #note that this str()-call inside here calls the dunder-method from the tuple-class!\n",
    "    \n",
    "a = Triple(1,2,3)\n",
    "b = Triple(2,3,4)\n",
    "\n",
    "print(a+b)"
   ]
  },
  {
   "cell_type": "markdown",
   "metadata": {},
   "source": [
    "## Let's summarize a bit:"
   ]
  },
  {
   "cell_type": "raw",
   "metadata": {},
   "source": [
    "print(something) ^= print(str(something))\n",
    "str(something) ^=  something.__str__()\n",
    "something.__str__() ^= [class of something].__str__(something)"
   ]
  },
  {
   "cell_type": "markdown",
   "metadata": {},
   "source": [
    "The Python-data-model revolves in huge parts on these dunder-methods. You need them for everything, be it making it to a string, adding stuff, calculating the length, indexing it with square brackets, and much much more. For a few more, look at the lower part of last monday's lecture."
   ]
  },
  {
   "cell_type": "markdown",
   "metadata": {},
   "source": [
    "\n",
    "\n",
    "\n",
    "\n",
    "\n",
    "\n",
    "\n"
   ]
  },
  {
   "cell_type": "raw",
   "metadata": {},
   "source": [
    "\n",
    "\n",
    "\n",
    "\n",
    "\n",
    "\n",
    "\n",
    "\n",
    "\n",
    "\n",
    "\n",
    "\n"
   ]
  },
  {
   "cell_type": "markdown",
   "metadata": {},
   "source": [
    "# Decorators\n",
    "\n",
    "The explanation for what decorators are has nothing to do with the rest of this notebook, so for a start consider this as a seperate topic. \n",
    "\n",
    "In one sentence, **a decorator changes the behaviour of a function or method.** There are some decorators predefined by python, and you can implement your own -- in the end they are just functions that in their body call other functions.  \n",
    "\n",
    "For the purpose of this exercise, we'll not make our own decorators yet, but only use two ones that python pre-specifies.\n",
    "\n",
    "The syntax of a decorator is to simply write `@name_of_decorator` in the line before the function or method. **Internally, the python compiler rewrites a method that is decorated, adding behaviour according to the decorator**"
   ]
  },
  {
   "cell_type": "markdown",
   "metadata": {},
   "source": [
    "### @property"
   ]
  },
  {
   "cell_type": "markdown",
   "metadata": {},
   "source": [
    "As we already mentioned, a class has **attributes**, which are basically variables of the class or of instance of the class, and **methods**, that are functions that perform behaviour related to instances of the class or the class itself. \n",
    "\n",
    "\n",
    "Inside the class, one can access *instance-attributes* over the syntax `self.name_of_attribute`, and outside the class, one can access these over `instance_variable.name_of_attribute`. \n",
    "\n",
    "*instance-methods* are basically functions, and can be accessed via `self.name_of_method()` from the inside, and via `instance_variable.name_of_method()` from the outside. \n",
    "\n",
    "We remember that all instance-methods need a first parameter called `self`."
   ]
  },
  {
   "cell_type": "code",
   "execution_count": 47,
   "metadata": {},
   "outputs": [
    {
     "name": "stdout",
     "output_type": "stream",
     "text": [
      "kitty\n",
      "MIAU\n"
     ]
    }
   ],
   "source": [
    "class Animal():\n",
    "    def __init__(self, name):\n",
    "        self.do_init_stuff(name)  #this is how we access an instance-method from inside \n",
    "        \n",
    "    def do_init_stuff(self, name):\n",
    "        self.name = name          #this is how we access an instance-attribute from inside\n",
    "        \n",
    "    def say_something(self):\n",
    "        print(\"MIAU\")\n",
    "        \n",
    "kittythecat = Animal(\"kitty\")\n",
    "print(kittythecat.name)           #this is how we access an instance-attribute from outside\n",
    "kittythecat.say_something()       #this is how we access an instance-method from outside"
   ]
  },
  {
   "cell_type": "markdown",
   "metadata": {},
   "source": [
    "Now let's come to the @property-decorator. What is does is actually really simple: **It changes a method, such that you call it without the parantheses**. *This makes it possible to access a method as if it were a property.*"
   ]
  },
  {
   "cell_type": "code",
   "execution_count": 51,
   "metadata": {},
   "outputs": [
    {
     "name": "stdout",
     "output_type": "stream",
     "text": [
      "4\n"
     ]
    }
   ],
   "source": [
    "class Animal():\n",
    "    def __init__(self, name):\n",
    "        self.do_init_stuff(name)  \n",
    "        \n",
    "    def do_init_stuff(self, name):\n",
    "        self.name = name          \n",
    "        self.numlegs = 4\n",
    "        \n",
    "    def say_something(self):\n",
    "        print(\"MIAU\")\n",
    "        \n",
    "    @property\n",
    "    def num_legs(self):\n",
    "        return self.numlegs\n",
    "    \n",
    "kittythecat = Animal(\"kitty\")\n",
    "print(kittythecat.num_legs)   #num_legs is actually a method, but thanks to the decorator we can call it without parantheses"
   ]
  },
  {
   "cell_type": "markdown",
   "metadata": {},
   "source": [
    "As stated above, a decorator basically lets the python-compiler re-write a method. So **imagine that the @property-decorator rewrites the method such that it can be called without the parantheses**. It's as simple as that."
   ]
  },
  {
   "cell_type": "markdown",
   "metadata": {},
   "source": [
    "### static attributes\n",
    "\n",
    "As stated above, **methods and attributes can either belong to the instance, or to the class itself**. If they belong to the instance, they are different for every individual object. If they belong to the class itself, they are shared among all instances of that class.\n",
    "\n",
    "Let's stick with the very first example from this file: Imagine the class **Human**, where instances of that class are for example **you** and **me**. Now, the *name* must obviously be an instance-variable, as its different for every human. Stuff that is the same for every human can just as well be class-variables -- they *belong to the blueprint of humans*. So, we'd want the property has_heart to be a property of all humans. \n",
    "\n",
    "A class-attribute does not have the `self.` at the beginning. \n",
    "\n",
    "*Attributes and methods that belong to the class are termed **static*** -- In Java, you'd use this keyword in their definition."
   ]
  },
  {
   "cell_type": "code",
   "execution_count": 63,
   "metadata": {},
   "outputs": [
    {
     "name": "stdout",
     "output_type": "stream",
     "text": [
      "Peter Mustermann\n",
      "Susi Sorglos\n",
      "<__main__.Human object at 0x7f0a10086710>\n",
      "True\n",
      "<class '__main__.Human'>\n",
      "True\n"
     ]
    }
   ],
   "source": [
    "class Human:\n",
    "    has_heart = True  #class-variables can just be written anywhere in the class\n",
    "    \n",
    "    def __init__(self, name):\n",
    "        self.name = name\n",
    "        \n",
    "peter = Human(\"Peter Mustermann\")\n",
    "susi = Human(\"Susi Sorglos\")\n",
    "\n",
    "print(peter.name)\n",
    "print(susi.name)\n",
    "\n",
    "print(peter) #Peter is an object, an instnace of the class human...\n",
    "print(peter.has_heart) #we can get class-variables from any instance....\n",
    "\n",
    "print(Human) #Human IS the class human\n",
    "print(Human.has_heart) #We can also get class-variables from the class itself!"
   ]
  },
  {
   "cell_type": "markdown",
   "metadata": {},
   "source": [
    "### The decorator @staticmethod\n",
    "\n",
    "Above, we mentioned that both attributes and methods can be static. To define a static method, we need the @staticmethod-decorator. \n",
    "\n",
    "**A static method is just a normal function under the namespace of a class**. \n",
    "\n",
    "For the compiler, it doesn't make any difference at all if you define a behaviour as a pure function or as a static method of a class. Static methods could in principle just as well not be part of the class. \n",
    "\n",
    "The reason sometimes something is a static method and not a function is purely aestetics -- something that contextually belongs to a class (the blueprint of its instances) is generally made a static method of that class."
   ]
  },
  {
   "cell_type": "code",
   "execution_count": 68,
   "metadata": {},
   "outputs": [
    {
     "name": "stdout",
     "output_type": "stream",
     "text": [
      "Creating Peter...\n",
      "Number of Humans now: 1\n",
      "Creating Susi...\n",
      "Number of Humans now: 2\n"
     ]
    }
   ],
   "source": [
    "class Human:\n",
    "    number_of_humans = 0\n",
    "    \n",
    "    def __init__(self, name):\n",
    "        self.name = name\n",
    "        Human.number_of_humans += 1  #every time we initialize a human, we increase the static attribute\n",
    "                                     #note that we have to dereference the class-attribute from the class!\n",
    "    \n",
    "    @staticmethod\n",
    "    def GetAmountOfHumans():\n",
    "        return Human.number_of_humans #this simply returns the static attribute\n",
    "    \n",
    "\n",
    "print(\"Creating Peter...\")\n",
    "peter = Human(\"Peter Mustermann\")\n",
    "print(\"Number of Humans now:\", Human.GetAmountOfHumans())\n",
    "\n",
    "\n",
    "print(\"Creating Susi...\")\n",
    "susi = Human(\"Susi Sorglos\")\n",
    "print(\"Number of Humans now:\", Human.GetAmountOfHumans())"
   ]
  },
  {
   "cell_type": "markdown",
   "metadata": {},
   "source": [
    "Note that we could have just as well defined the decorator as a normal function, that would just change how we call it a little:"
   ]
  },
  {
   "cell_type": "code",
   "execution_count": 70,
   "metadata": {},
   "outputs": [
    {
     "name": "stdout",
     "output_type": "stream",
     "text": [
      "Creating Peter...\n",
      "Number of Humans now: 1\n",
      "Creating Susi...\n",
      "Number of Humans now: 2\n"
     ]
    }
   ],
   "source": [
    "class Human:\n",
    "    number_of_humans = 0\n",
    "    \n",
    "    def __init__(self, name):\n",
    "        self.name = name\n",
    "        Human.number_of_humans += 1  #every time we initialize a human, we increase the static attribute\n",
    "                                     #note that we have to dereference the class-attribute from the class!\n",
    "    \n",
    "def GetAmountOfHumans():\n",
    "    return Human.number_of_humans #this simply returns the static attribute of the class human\n",
    "    \n",
    "\n",
    "print(\"Creating Peter...\")\n",
    "peter = Human(\"Peter Mustermann\")\n",
    "print(\"Number of Humans now:\", GetAmountOfHumans())\n",
    "\n",
    "\n",
    "print(\"Creating Susi...\")\n",
    "susi = Human(\"Susi Sorglos\")\n",
    "print(\"Number of Humans now:\", GetAmountOfHumans())"
   ]
  },
  {
   "cell_type": "markdown",
   "metadata": {},
   "source": [
    "I hope it gets somehow clear why we would define such a function as part of the class human however: *It contextually belongs to the class*.  \n",
    "\n",
    "Inside static methods, you can create new instances of the respective class -- you just have to call its constructor!"
   ]
  },
  {
   "cell_type": "code",
   "execution_count": 76,
   "metadata": {},
   "outputs": [
    {
     "name": "stdout",
     "output_type": "stream",
     "text": [
      "Creating Peter...\n",
      "Number of Humans now: 1\n",
      "Creating Susi...\n",
      "Number of Humans now: 2\n",
      "Creating a new Baby...\n",
      "Number of Humans now: 3\n",
      "Last name of their Baby: Mustermann-Sorglos\n"
     ]
    }
   ],
   "source": [
    "class Human:\n",
    "    number_of_humans = 0\n",
    "    \n",
    "    def __init__(self, last_name):\n",
    "        self.last_name = last_name\n",
    "        Human.number_of_humans += 1\n",
    "       \n",
    "    @staticmethod\n",
    "    def GetAmountOfHumans():\n",
    "        return Human.number_of_humans #this simply returns the static attribute \n",
    "  \n",
    "    \n",
    "    @staticmethod\n",
    "    def MakeLove(human1, human2):\n",
    "        #the last name of the child is a combination of the last names of its parents\n",
    "        last_name_of_child = human1.last_name + \"-\" + human2.last_name \n",
    "        return Human(last_name_of_child) #we create a new human and return it\n",
    "    \n",
    "\n",
    "print(\"Creating Peter...\")\n",
    "peter = Human(\"Mustermann\")\n",
    "print(\"Number of Humans now:\", GetAmountOfHumans())\n",
    "\n",
    "print(\"Creating Susi...\")\n",
    "susi = Human(\"Sorglos\")\n",
    "print(\"Number of Humans now:\", GetAmountOfHumans())\n",
    "\n",
    "print(\"Creating a new Baby...\")\n",
    "child_of_peter_and_susi = Human.MakeLove(peter, susi)\n",
    "print(\"Number of Humans now:\", GetAmountOfHumans())\n",
    "print(\"Last name of their Baby:\", child_of_peter_and_susi.last_name)"
   ]
  },
  {
   "cell_type": "markdown",
   "metadata": {},
   "source": [
    "# To summarize the two decorators....:"
   ]
  },
  {
   "cell_type": "markdown",
   "metadata": {},
   "source": [
    "* ### imagine that the @property-decorator rewrites the method such that it can be called without the parantheses\n",
    "* ### imagine that the @staticmethod-decorator rewrites the method, such that it removes it from the class, and prepends \"classname.\" before the name"
   ]
  },
  {
   "cell_type": "raw",
   "metadata": {},
   "source": [
    "\n",
    "\n",
    "\n",
    "\n",
    "\n",
    "\n",
    "\n",
    "\n",
    "\n",
    "\n"
   ]
  },
  {
   "cell_type": "markdown",
   "metadata": {},
   "source": [
    "#### Advanced understanding of the @staticmethod-decorator\n",
    "\n",
    "> You don't need to know this, so you can just skip this part here if you're not interested\n",
    "\n",
    "In principle, you don't even need the @staticmethod-decorator to declare static methods -- look at this:\n"
   ]
  },
  {
   "cell_type": "code",
   "execution_count": 80,
   "metadata": {},
   "outputs": [
    {
     "name": "stdout",
     "output_type": "stream",
     "text": [
      "Triple(0, 0, 0)\n"
     ]
    }
   ],
   "source": [
    "class Triple:\n",
    "    def __init__(self, num1, num2, num3):\n",
    "        self.nums = num1, num2, num3\n",
    "    \n",
    "    def __add__(self, other):\n",
    "        return Triple(self.nums[0] + other.nums[0], self.nums[1] + other.nums[1], self.nums[2] + other.nums[2])\n",
    "        \n",
    "    def __str__(self):\n",
    "        return \"Triple\"+str(self.nums) #note that this str()-call inside here calls the dunder-method from the tuple-class!\n",
    "    \n",
    "    #Even though we don't tell so, this is a static method -- it doesn't have the self-parameter\n",
    "    def CreateEmpty():\n",
    "        return Triple(0, 0, 0)\n",
    "    \n",
    "a = Triple.CreateEmpty()\n",
    "\n",
    "print(a)"
   ]
  },
  {
   "cell_type": "markdown",
   "metadata": {},
   "source": [
    "However, it gets messy if we want to call this method from an instance, which is allowed so far! Remember that a call to `a.CreateEmpty()` is translated by the compiler to `Triple.CreateEmpty(a)`!"
   ]
  },
  {
   "cell_type": "code",
   "execution_count": 81,
   "metadata": {},
   "outputs": [
    {
     "ename": "TypeError",
     "evalue": "CreateEmpty() takes 0 positional arguments but 1 was given",
     "output_type": "error",
     "traceback": [
      "\u001b[0;31m---------------------------------------------------------------------------\u001b[0m",
      "\u001b[0;31mTypeError\u001b[0m                                 Traceback (most recent call last)",
      "\u001b[0;32m<ipython-input-81-d22dfd31201e>\u001b[0m in \u001b[0;36m<module>\u001b[0;34m()\u001b[0m\n\u001b[0;32m----> 1\u001b[0;31m \u001b[0mb\u001b[0m \u001b[0;34m=\u001b[0m \u001b[0ma\u001b[0m\u001b[0;34m.\u001b[0m\u001b[0mCreateEmpty\u001b[0m\u001b[0;34m(\u001b[0m\u001b[0;34m)\u001b[0m \u001b[0;31m#--> b = Triple.CreateEmpty(a)\u001b[0m\u001b[0;34m\u001b[0m\u001b[0m\n\u001b[0m",
      "\u001b[0;31mTypeError\u001b[0m: CreateEmpty() takes 0 positional arguments but 1 was given"
     ]
    }
   ],
   "source": [
    "b = a.CreateEmpty() #--> b = Triple.CreateEmpty(a)"
   ]
  },
  {
   "cell_type": "markdown",
   "metadata": {},
   "source": [
    "This gets especially messy if we had a method that expects an arbitrary number of arguments, because then the first one will be the reference to an instance!"
   ]
  },
  {
   "cell_type": "code",
   "execution_count": 86,
   "metadata": {},
   "outputs": [
    {
     "name": "stdout",
     "output_type": "stream",
     "text": [
      "This text comes from the argument This text is added by the static method\n"
     ]
    }
   ],
   "source": [
    "class Triple:\n",
    "    def __init__(self, num1, num2, num3):\n",
    "        self.nums = num1, num2, num3\n",
    "    \n",
    "    def __add__(self, other):\n",
    "        return Triple(self.nums[0] + other.nums[0], self.nums[1] + other.nums[1], self.nums[2] + other.nums[2])\n",
    "        \n",
    "    def __str__(self):\n",
    "        return \"Triple\"+str(self.nums) #note that this str()-call inside here calls the dunder-method from the tuple-class!\n",
    "    \n",
    "    #Even though we don't tell so, this is a static method -- it doesn't have the self-parameter\n",
    "    def PrintSomeTextWithMoreText(*texts): #note that this method gets an arbitrary number of arguments!\n",
    "        print(*texts, \"This text is added by the static method\")\n",
    "        \n",
    "Triple.PrintSomeTextWithMoreText(\"This text comes from the argument\")"
   ]
  },
  {
   "cell_type": "code",
   "execution_count": 88,
   "metadata": {},
   "outputs": [
    {
     "name": "stdout",
     "output_type": "stream",
     "text": [
      "Triple(1, 1, 1) This text is added by the static method\n"
     ]
    }
   ],
   "source": [
    "#While this makes sense, we could also...:\n",
    "\n",
    "a = Triple(1, 1, 1)\n",
    "a.PrintSomeTextWithMoreText() #this translates to Triple.PrintSomeTextWithMoreText(a), where the reference to a is\n",
    "                              #the first argument!"
   ]
  },
  {
   "cell_type": "markdown",
   "metadata": {},
   "source": [
    "**Using the @staticmethod-decorator prevents such unintended behaviour, by not making the reference to the instance the first argument**. Because of that, the method now behaves the same way, no matter if it's called by the class or by an instance of that class."
   ]
  },
  {
   "cell_type": "code",
   "execution_count": 93,
   "metadata": {},
   "outputs": [
    {
     "name": "stdout",
     "output_type": "stream",
     "text": [
      "Calling it from the class...\n",
      "This text is added by the static method\n",
      "\n",
      "Calling it from an instance...\n",
      "This text is added by the static method\n"
     ]
    }
   ],
   "source": [
    "class Triple:\n",
    "    def __init__(self, num1, num2, num3):\n",
    "        self.nums = num1, num2, num3\n",
    "    \n",
    "    def __add__(self, other):\n",
    "        return Triple(self.nums[0] + other.nums[0], self.nums[1] + other.nums[1], self.nums[2] + other.nums[2])\n",
    "        \n",
    "    def __str__(self):\n",
    "        return \"Triple\"+str(self.nums) #note that this str()-call inside here calls the dunder-method from the tuple-class!\n",
    "    \n",
    "    @staticmethod\n",
    "    def PrintSomeTextWithMoreText(*texts): #note that this method gets an arbitrary number of arguments!\n",
    "        print(*texts, \"This text is added by the static method\")\n",
    "        \n",
    "print(\"Calling it from the class...\")\n",
    "Triple.PrintSomeTextWithMoreText()\n",
    "print()\n",
    "\n",
    "print(\"Calling it from an instance...\")\n",
    "a = Triple(1,1,1)\n",
    "a.PrintSomeTextWithMoreText()"
   ]
  },
  {
   "cell_type": "code",
   "execution_count": null,
   "metadata": {},
   "outputs": [],
   "source": []
  }
 ],
 "metadata": {
  "kernelspec": {
   "display_name": "Python 3",
   "language": "python",
   "name": "python3"
  },
  "language_info": {
   "codemirror_mode": {
    "name": "ipython",
    "version": 3
   },
   "file_extension": ".py",
   "mimetype": "text/x-python",
   "name": "python",
   "nbconvert_exporter": "python",
   "pygments_lexer": "ipython3",
   "version": "3.6.5rc1"
  }
 },
 "nbformat": 4,
 "nbformat_minor": 2
}
